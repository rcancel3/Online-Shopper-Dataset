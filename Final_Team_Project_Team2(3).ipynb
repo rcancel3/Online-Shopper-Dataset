{
 "cells": [
  {
   "cell_type": "markdown",
   "id": "breathing-introduction",
   "metadata": {},
   "source": [
    "# Final Project - Team Number 2\n",
    "\n",
    "<h4> <span style='color:darkolivegreen'>Team Members: Payal Muni, Dingyi Duan, and Roberto Cancel</span> </h4>\n",
    "  \n",
    "<h4> <span style='color:darkolivegreen'> Dataset: Online Shopper Intention (Dataset 3)</span> </h4>\n",
    "  \n",
    "<h4> <span style='color:darkolivegreen'> Origin: UCI Machine Learning Repository</span> </h4>"
   ]
  },
  {
   "cell_type": "markdown",
   "id": "substantial-pierre",
   "metadata": {},
   "source": [
    "# Data Importing and Pre-processing "
   ]
  },
  {
   "cell_type": "markdown",
   "id": "covered-bowling",
   "metadata": {},
   "source": [
    "**Import libraries and dataset from Github repository**"
   ]
  },
  {
   "cell_type": "code",
   "execution_count": 1,
   "id": "studied-assets",
   "metadata": {},
   "outputs": [],
   "source": [
    "# Import libraries for future work\n",
    "import numpy as np\n",
    "import pandas as pd\n",
    "from sklearn import preprocessing\n",
    "from sklearn.preprocessing import StandardScaler\n",
    "import matplotlib.pyplot as plt\n",
    "from sklearn.linear_model import LogisticRegression\n",
    "from sklearn.model_selection import train_test_split\n",
    "import seaborn as sns\n",
    "from imblearn.over_sampling import SMOTE \n",
    "import statsmodels.api as sm\n",
    "import warnings\n",
    "from statsmodels.stats.outliers_influence import variance_inflation_factor\n",
    "from pandas.api.types import is_numeric_dtype\n",
    "from sklearn.feature_selection import RFE\n",
    "from sklearn.metrics import confusion_matrix\n",
    "from sklearn.metrics import confusion_matrix as confusion_matrix2\n",
    "from sklearn.metrics import classification_report\n",
    "from sklearn.metrics import roc_auc_score\n",
    "from sklearn.metrics import roc_curve\n",
    "from sklearn.feature_selection import RFECV\n",
    "\n",
    "\n",
    "sns.set(style=\"white\")\n",
    "sns.set(style=\"whitegrid\", color_codes=True)\n",
    "warnings.filterwarnings('ignore')"
   ]
  },
  {
   "cell_type": "code",
   "execution_count": 2,
   "id": "noble-lindsay",
   "metadata": {},
   "outputs": [
    {
     "data": {
      "text/html": [
       "<div>\n",
       "<style scoped>\n",
       "    .dataframe tbody tr th:only-of-type {\n",
       "        vertical-align: middle;\n",
       "    }\n",
       "\n",
       "    .dataframe tbody tr th {\n",
       "        vertical-align: top;\n",
       "    }\n",
       "\n",
       "    .dataframe thead th {\n",
       "        text-align: right;\n",
       "    }\n",
       "</style>\n",
       "<table border=\"1\" class=\"dataframe\">\n",
       "  <thead>\n",
       "    <tr style=\"text-align: right;\">\n",
       "      <th></th>\n",
       "      <th>Administrative</th>\n",
       "      <th>Administrative_Duration</th>\n",
       "      <th>Informational</th>\n",
       "      <th>Informational_Duration</th>\n",
       "      <th>ProductRelated</th>\n",
       "      <th>ProductRelated_Duration</th>\n",
       "      <th>BounceRates</th>\n",
       "      <th>ExitRates</th>\n",
       "      <th>PageValues</th>\n",
       "      <th>SpecialDay</th>\n",
       "      <th>Month</th>\n",
       "      <th>OperatingSystems</th>\n",
       "      <th>Browser</th>\n",
       "      <th>Region</th>\n",
       "      <th>TrafficType</th>\n",
       "      <th>VisitorType</th>\n",
       "      <th>Weekend</th>\n",
       "      <th>Revenue</th>\n",
       "    </tr>\n",
       "  </thead>\n",
       "  <tbody>\n",
       "    <tr>\n",
       "      <th>0</th>\n",
       "      <td>0</td>\n",
       "      <td>0.0</td>\n",
       "      <td>0.0</td>\n",
       "      <td>0.0</td>\n",
       "      <td>1</td>\n",
       "      <td>0.000000</td>\n",
       "      <td>0.20</td>\n",
       "      <td>0.20</td>\n",
       "      <td>0.0</td>\n",
       "      <td>0.0</td>\n",
       "      <td>Feb</td>\n",
       "      <td>1.0</td>\n",
       "      <td>1</td>\n",
       "      <td>1</td>\n",
       "      <td>1</td>\n",
       "      <td>Returning_Visitor</td>\n",
       "      <td>False</td>\n",
       "      <td>False</td>\n",
       "    </tr>\n",
       "    <tr>\n",
       "      <th>1</th>\n",
       "      <td>0</td>\n",
       "      <td>0.0</td>\n",
       "      <td>0.0</td>\n",
       "      <td>0.0</td>\n",
       "      <td>2</td>\n",
       "      <td>64.000000</td>\n",
       "      <td>0.00</td>\n",
       "      <td>0.10</td>\n",
       "      <td>0.0</td>\n",
       "      <td>0.0</td>\n",
       "      <td>Feb</td>\n",
       "      <td>2.0</td>\n",
       "      <td>2</td>\n",
       "      <td>1</td>\n",
       "      <td>2</td>\n",
       "      <td>Returning_Visitor</td>\n",
       "      <td>False</td>\n",
       "      <td>False</td>\n",
       "    </tr>\n",
       "    <tr>\n",
       "      <th>2</th>\n",
       "      <td>0</td>\n",
       "      <td>0.0</td>\n",
       "      <td>0.0</td>\n",
       "      <td>0.0</td>\n",
       "      <td>1</td>\n",
       "      <td>0.000000</td>\n",
       "      <td>0.20</td>\n",
       "      <td>0.20</td>\n",
       "      <td>0.0</td>\n",
       "      <td>0.0</td>\n",
       "      <td>Feb</td>\n",
       "      <td>4.0</td>\n",
       "      <td>1</td>\n",
       "      <td>9</td>\n",
       "      <td>3</td>\n",
       "      <td>Returning_Visitor</td>\n",
       "      <td>False</td>\n",
       "      <td>False</td>\n",
       "    </tr>\n",
       "    <tr>\n",
       "      <th>3</th>\n",
       "      <td>0</td>\n",
       "      <td>0.0</td>\n",
       "      <td>0.0</td>\n",
       "      <td>0.0</td>\n",
       "      <td>2</td>\n",
       "      <td>2.666667</td>\n",
       "      <td>0.05</td>\n",
       "      <td>0.14</td>\n",
       "      <td>0.0</td>\n",
       "      <td>0.0</td>\n",
       "      <td>Feb</td>\n",
       "      <td>3.0</td>\n",
       "      <td>2</td>\n",
       "      <td>2</td>\n",
       "      <td>4</td>\n",
       "      <td>Returning_Visitor</td>\n",
       "      <td>False</td>\n",
       "      <td>False</td>\n",
       "    </tr>\n",
       "    <tr>\n",
       "      <th>4</th>\n",
       "      <td>0</td>\n",
       "      <td>0.0</td>\n",
       "      <td>0.0</td>\n",
       "      <td>0.0</td>\n",
       "      <td>10</td>\n",
       "      <td>627.500000</td>\n",
       "      <td>0.02</td>\n",
       "      <td>0.05</td>\n",
       "      <td>0.0</td>\n",
       "      <td>0.0</td>\n",
       "      <td>Feb</td>\n",
       "      <td>3.0</td>\n",
       "      <td>3</td>\n",
       "      <td>1</td>\n",
       "      <td>4</td>\n",
       "      <td>Returning_Visitor</td>\n",
       "      <td>True</td>\n",
       "      <td>False</td>\n",
       "    </tr>\n",
       "  </tbody>\n",
       "</table>\n",
       "</div>"
      ],
      "text/plain": [
       "   Administrative  Administrative_Duration  Informational  \\\n",
       "0               0                      0.0            0.0   \n",
       "1               0                      0.0            0.0   \n",
       "2               0                      0.0            0.0   \n",
       "3               0                      0.0            0.0   \n",
       "4               0                      0.0            0.0   \n",
       "\n",
       "   Informational_Duration  ProductRelated  ProductRelated_Duration  \\\n",
       "0                     0.0               1                 0.000000   \n",
       "1                     0.0               2                64.000000   \n",
       "2                     0.0               1                 0.000000   \n",
       "3                     0.0               2                 2.666667   \n",
       "4                     0.0              10               627.500000   \n",
       "\n",
       "   BounceRates  ExitRates  PageValues  SpecialDay Month  OperatingSystems  \\\n",
       "0         0.20       0.20         0.0         0.0   Feb               1.0   \n",
       "1         0.00       0.10         0.0         0.0   Feb               2.0   \n",
       "2         0.20       0.20         0.0         0.0   Feb               4.0   \n",
       "3         0.05       0.14         0.0         0.0   Feb               3.0   \n",
       "4         0.02       0.05         0.0         0.0   Feb               3.0   \n",
       "\n",
       "   Browser  Region  TrafficType        VisitorType  Weekend  Revenue  \n",
       "0        1       1            1  Returning_Visitor    False    False  \n",
       "1        2       1            2  Returning_Visitor    False    False  \n",
       "2        1       9            3  Returning_Visitor    False    False  \n",
       "3        2       2            4  Returning_Visitor    False    False  \n",
       "4        3       1            4  Returning_Visitor     True    False  "
      ]
     },
     "execution_count": 2,
     "metadata": {},
     "output_type": "execute_result"
    }
   ],
   "source": [
    "# Import data from Github (online_shoppers_intention.csv)\n",
    "url = 'https://raw.githubusercontent.com/rcancel3/Online-Shopper-Dataset/main/online_shoppers_intention%5B1%5D.csv'\n",
    "df = pd.read_csv(url, header=0, index_col=None)\n",
    "df.head()"
   ]
  },
  {
   "cell_type": "markdown",
   "id": "alive-cookbook",
   "metadata": {},
   "source": [
    "<h4> <span style='color:darkolivegreen'> As seen in the code above, we first call the df.head() function to ensure that our data has imported into Pyhon correctly. We used the Panda's function: pd.read_csv(), to read our CSV file from our Github repository. </span> </h4>\n",
    "\n",
    "<h4> <span style='color:darkolivegreen'> Now that we have confirmed that the data imported properly, we will check the dimensions of our DataFrame to look at it's size and shape (number of rows, number of columns) </span> </h4>\n"
   ]
  },
  {
   "cell_type": "markdown",
   "id": "distant-father",
   "metadata": {},
   "source": [
    "**Describe characteristics such as dimensions**"
   ]
  },
  {
   "cell_type": "code",
   "execution_count": 3,
   "id": "desperate-craps",
   "metadata": {},
   "outputs": [
    {
     "name": "stdout",
     "output_type": "stream",
     "text": [
      "Size: 221940 Shape: (12330, 18)\n"
     ]
    }
   ],
   "source": [
    "# dataframe.size\n",
    "size = df.size\n",
    "  \n",
    "# dataframe.shape\n",
    "shape = df.shape\n",
    "  \n",
    "# printing size and shape\n",
    "print(\"Size:\", size,\"Shape:\", shape)"
   ]
  },
  {
   "cell_type": "markdown",
   "id": "structured-eight",
   "metadata": {},
   "source": [
    "**Addressing Missing Data**  \n",
    "***Step 1: Identify Missing Data:***"
   ]
  },
  {
   "cell_type": "markdown",
   "id": "reduced-resistance",
   "metadata": {},
   "source": [
    "<h4> <span style='color:darkolivegreen'> While the reason for the missing data in our dataset is unclear, we must identify and address it to avoid inaccurate statistical results and possible bias in our model.</span> </h4>\n",
    "\n",
    "<h4> <span style='color:darkolivegreen'> First, we will use the isnull().sum() function to counts how many rows of missing data exist for each column.</span> </h4>"
   ]
  },
  {
   "cell_type": "code",
   "execution_count": 4,
   "id": "approximate-architect",
   "metadata": {},
   "outputs": [
    {
     "data": {
      "text/plain": [
       "Administrative               0\n",
       "Administrative_Duration      0\n",
       "Informational              128\n",
       "Informational_Duration       0\n",
       "ProductRelated               0\n",
       "ProductRelated_Duration      0\n",
       "BounceRates                  0\n",
       "ExitRates                    0\n",
       "PageValues                 135\n",
       "SpecialDay                   0\n",
       "Month                        0\n",
       "OperatingSystems           123\n",
       "Browser                      0\n",
       "Region                       0\n",
       "TrafficType                  0\n",
       "VisitorType                  0\n",
       "Weekend                      0\n",
       "Revenue                      0\n",
       "dtype: int64"
      ]
     },
     "execution_count": 4,
     "metadata": {},
     "output_type": "execute_result"
    }
   ],
   "source": [
    "# Count missing data per variable\n",
    "df.isnull().sum()"
   ]
  },
  {
   "cell_type": "markdown",
   "id": "usual-funeral",
   "metadata": {},
   "source": [
    "***Step 2: Subset Missing Data***"
   ]
  },
  {
   "cell_type": "code",
   "execution_count": 5,
   "id": "transparent-library",
   "metadata": {},
   "outputs": [
    {
     "data": {
      "text/plain": [
       "Administrative               0\n",
       "Administrative_Duration      0\n",
       "Informational              128\n",
       "Informational_Duration       0\n",
       "ProductRelated               0\n",
       "ProductRelated_Duration      0\n",
       "BounceRates                  0\n",
       "ExitRates                    0\n",
       "PageValues                 135\n",
       "SpecialDay                   0\n",
       "Month                        0\n",
       "OperatingSystems           123\n",
       "Browser                      0\n",
       "Region                       0\n",
       "TrafficType                  0\n",
       "VisitorType                  0\n",
       "Weekend                      0\n",
       "Revenue                      0\n",
       "dtype: int64"
      ]
     },
     "execution_count": 5,
     "metadata": {},
     "output_type": "execute_result"
    }
   ],
   "source": [
    "# Pull the subset with all missing data\n",
    "df_null = df.loc[df.isnull().any(axis=1)]\n",
    "# Verify all Null data was pulled\n",
    "df_null.isnull().sum()"
   ]
  },
  {
   "cell_type": "markdown",
   "id": "statewide-davis",
   "metadata": {},
   "source": [
    "***Step 3: Determine Extent/Proportion of Missing Data***"
   ]
  },
  {
   "cell_type": "code",
   "execution_count": 6,
   "id": "brazilian-width",
   "metadata": {},
   "outputs": [
    {
     "data": {
      "text/plain": [
       "False    0.031184\n",
       "True     0.029874\n",
       "Name: Revenue, dtype: float64"
      ]
     },
     "execution_count": 6,
     "metadata": {},
     "output_type": "execute_result"
    }
   ],
   "source": [
    "# Confirm the number of True Revenue's with missing data is not large\n",
    "df_null['Revenue'].value_counts().div(df['Revenue'].value_counts())"
   ]
  },
  {
   "cell_type": "markdown",
   "id": "independent-ready",
   "metadata": {},
   "source": [
    "<h4> <span style='color:darkolivegreen'> \n",
    "Since missing data is evenly distributed across revenue types, we decided that dropping the observations with NULLs was the most efficient method for handling our missing values.</span> </h4>"
   ]
  },
  {
   "cell_type": "markdown",
   "id": "comprehensive-spencer",
   "metadata": {},
   "source": [
    "***Step 4: Drop observations with missing data***"
   ]
  },
  {
   "cell_type": "markdown",
   "id": "portuguese-franklin",
   "metadata": {},
   "source": [
    "<h4> <span style='color:darkolivegreen'> We used the drop.na() function to drop all missing data from each variable. To ensure all missing data was dropped, we ran print df.shape to count the rows and columns and summed missing data using the .isna().sum() functions.</span> </h4>"
   ]
  },
  {
   "cell_type": "code",
   "execution_count": 7,
   "id": "sweet-black",
   "metadata": {},
   "outputs": [],
   "source": [
    "# Clean up data by dropping Nulls\n",
    "df = df.dropna()"
   ]
  },
  {
   "cell_type": "code",
   "execution_count": 8,
   "id": "minor-circular",
   "metadata": {},
   "outputs": [
    {
     "name": "stdout",
     "output_type": "stream",
     "text": [
      "(11948, 18)\n",
      "Administrative             0\n",
      "Administrative_Duration    0\n",
      "Informational              0\n",
      "Informational_Duration     0\n",
      "ProductRelated             0\n",
      "ProductRelated_Duration    0\n",
      "BounceRates                0\n",
      "ExitRates                  0\n",
      "PageValues                 0\n",
      "SpecialDay                 0\n",
      "Month                      0\n",
      "OperatingSystems           0\n",
      "Browser                    0\n",
      "Region                     0\n",
      "TrafficType                0\n",
      "VisitorType                0\n",
      "Weekend                    0\n",
      "Revenue                    0\n",
      "dtype: int64\n"
     ]
    }
   ],
   "source": [
    "# Set to display all cols and rows\n",
    "# Print new Shape and Confirm dropped Null's\n",
    "print (df.shape)\n",
    "print(df.isna().sum())"
   ]
  },
  {
   "cell_type": "markdown",
   "id": "sought-parameter",
   "metadata": {},
   "source": [
    "<h4> <span style='color:darkolivegreen'> After ensuring that we dropped all of the missing data, we created a new variable, totalPageViews, which summed views across view across all page types. We used totalPageViews to remove all rows with zero total views and no revenue. We also ran print(df.shape) to see if the data frame added totalPageValues and count the rows removed. </span> </h4>"
   ]
  },
  {
   "cell_type": "code",
   "execution_count": 9,
   "id": "impaired-rugby",
   "metadata": {},
   "outputs": [],
   "source": [
    "# Create new column, to look for 0,0,0, 0\n",
    "df['totalPageViews'] = df['Administrative'] + df['Informational'] + df['ProductRelated']\n",
    "df = df.loc[(df['totalPageViews'] != 0)]"
   ]
  },
  {
   "cell_type": "markdown",
   "id": "environmental-northern",
   "metadata": {},
   "source": [
    "<h4> <span style='color:darkolivegreen'> We must identify and remove outliers in our data set. To do this, we will first create histograms to evaluate the distribution (specifically skewness) of each feature to decide whether to replace outliers with the feature mean (if normally distributed) or median (if skewed distribution).</span> </h4>"
   ]
  },
  {
   "cell_type": "code",
   "execution_count": 10,
   "id": "incredible-tampa",
   "metadata": {},
   "outputs": [
    {
     "data": {
      "image/png": "[encoded data removed]",
      "text/plain": [
       "<Figure size 576x504 with 1 Axes>"
      ]
     },
     "metadata": {},
     "output_type": "display_data"
    }
   ],
   "source": [
    "df['Administrative'].plot.hist(figsize = (8,7), grid=True, bins=20, rwidth=0.9,\n",
    "                   color='xkcd:sky blue')\n",
    "plt.title('Distribution of Administrative Data', fontsize = 16)\n",
    "plt.xlabel('Administrative', fontsize = 14)\n",
    "plt.ylabel('Administrative Counts', fontsize = 14)\n",
    "plt.grid(axis='y', alpha=0.75)\n"
   ]
  },
  {
   "cell_type": "code",
   "execution_count": 11,
   "id": "efficient-community",
   "metadata": {},
   "outputs": [
    {
     "data": {
      "image/png": "[encoded data removed]",
      "text/plain": [
       "<Figure size 576x504 with 1 Axes>"
      ]
     },
     "metadata": {},
     "output_type": "display_data"
    }
   ],
   "source": [
    "df['Administrative_Duration'].plot.hist(figsize = (8,7), grid=True, bins=20, rwidth=0.9,\n",
    "                   color='LightPink')\n",
    "plt.title('Disrtribution of Administrative Duration Data', fontsize = 16)\n",
    "plt.xlabel('Administrative Duration', fontsize = 14)\n",
    "plt.ylabel('Administrative Duration Counts', fontsize = 14)\n",
    "plt.grid(axis='y', alpha=0.75)"
   ]
  },
  {
   "cell_type": "code",
   "execution_count": 12,
   "id": "thirty-interval",
   "metadata": {},
   "outputs": [
    {
     "data": {
      "image/png": "[encoded data removed]",
      "text/plain": [
       "<Figure size 576x504 with 1 Axes>"
      ]
     },
     "metadata": {},
     "output_type": "display_data"
    }
   ],
   "source": [
    "df['Informational'].plot.hist(figsize = (8,7), grid=True, bins=20, rwidth=0.9,\n",
    "                   color='navajowhite')\n",
    "plt.title('Distribution of Informational Data', fontsize = 16)\n",
    "plt.xlabel('Informational', fontsize = 14)\n",
    "plt.ylabel('Informational Counts', fontsize = 14)\n",
    "plt.grid(axis='y', alpha=0.75)"
   ]
  },
  {
   "cell_type": "code",
   "execution_count": 13,
   "id": "critical-timber",
   "metadata": {},
   "outputs": [
    {
     "data": {
      "image/png": "[encoded data removed]",
      "text/plain": [
       "<Figure size 576x504 with 1 Axes>"
      ]
     },
     "metadata": {},
     "output_type": "display_data"
    }
   ],
   "source": [
    "df['Informational_Duration'].plot.hist(figsize = (8,7), grid=True, bins=20, rwidth=0.9,\n",
    "                   color='powderblue')\n",
    "plt.title('Distribution of Informational Duration Data', fontsize = 16)\n",
    "plt.xlabel('Informational Duration', fontsize = 14)\n",
    "plt.ylabel('Informational Duration Counts', fontsize = 14)\n",
    "plt.grid(axis='y', alpha=0.75)"
   ]
  },
  {
   "cell_type": "code",
   "execution_count": 14,
   "id": "incoming-phenomenon",
   "metadata": {},
   "outputs": [
    {
     "data": {
      "image/png": "[encoded data removed]",
      "text/plain": [
       "<Figure size 576x504 with 1 Axes>"
      ]
     },
     "metadata": {},
     "output_type": "display_data"
    }
   ],
   "source": [
    "df['ProductRelated'].plot.hist(figsize = (8,7), grid=True, bins=20, rwidth=0.9,\n",
    "                   color='mediumaquamarine')\n",
    "plt.title('Disrtribution of Product Related Data', fontsize = 16)\n",
    "plt.xlabel('Product Related', fontsize = 14)\n",
    "plt.ylabel('Product Related Counts', fontsize = 14)\n",
    "plt.grid(axis='y', alpha=0.75)"
   ]
  },
  {
   "cell_type": "code",
   "execution_count": 15,
   "id": "assisted-allen",
   "metadata": {},
   "outputs": [
    {
     "data": {
      "image/png": "[encoded data removed]",
      "text/plain": [
       "<Figure size 576x504 with 1 Axes>"
      ]
     },
     "metadata": {},
     "output_type": "display_data"
    }
   ],
   "source": [
    "df['ProductRelated_Duration'].plot.hist(figsize = (8,7), grid=True, bins=20, rwidth=0.9,\n",
    "                   color='violet')\n",
    "plt.title('Disrtribution of Product Related Duration Data', fontsize = 16)\n",
    "plt.xlabel('Product Related Duration', fontsize = 14)\n",
    "plt.ylabel('Product Related Duration Counts', fontsize = 14)\n",
    "plt.grid(axis='y', alpha=0.75)"
   ]
  },
  {
   "cell_type": "code",
   "execution_count": 16,
   "id": "still-belly",
   "metadata": {},
   "outputs": [
    {
     "data": {
      "image/png": "[encoded data removed]",
      "text/plain": [
       "<Figure size 576x504 with 1 Axes>"
      ]
     },
     "metadata": {},
     "output_type": "display_data"
    }
   ],
   "source": [
    "df['BounceRates'].plot.hist(figsize= (8,7), grid=True, bins=20, rwidth=0.9,\n",
    "                   color='#FF81C0')\n",
    "plt.title('Disrtribution of Bounce Rates Data', fontsize = 16)\n",
    "plt.xlabel('Bounce Rates', fontsize = 14)\n",
    "plt.ylabel('Bounce Rates Counts', fontsize = 14)\n",
    "plt.grid(axis='y', alpha=0.75)"
   ]
  },
  {
   "cell_type": "code",
   "execution_count": 17,
   "id": "thousand-assurance",
   "metadata": {},
   "outputs": [
    {
     "data": {
      "image/png": "[encoded data removed]",
      "text/plain": [
       "<Figure size 576x504 with 1 Axes>"
      ]
     },
     "metadata": {},
     "output_type": "display_data"
    }
   ],
   "source": [
    "df['ExitRates'].plot.hist(figsize=(8,7), grid=True, bins=20, rwidth=0.9,\n",
    "                   color='#FF796C')\n",
    "plt.title('Disrtribution of Exit Rates Data', fontsize = 16)\n",
    "plt.xlabel('Exit Rates', fontsize = 14)\n",
    "plt.ylabel('Exit Rates Counts', fontsize = 14)\n",
    "plt.grid(axis='y', alpha=0.75)"
   ]
  },
  {
   "cell_type": "code",
   "execution_count": 18,
   "id": "fluid-polymer",
   "metadata": {},
   "outputs": [
    {
     "data": {
      "image/png": "[encoded data removed]",
      "text/plain": [
       "<Figure size 576x504 with 1 Axes>"
      ]
     },
     "metadata": {},
     "output_type": "display_data"
    }
   ],
   "source": [
    "df['totalPageViews'].plot.hist(figsize = (8,7), grid=True, bins=20, rwidth=0.9,\n",
    "                   color='LightPink')\n",
    "plt.title('Disrtribution of Total Page Views', fontsize = 16)\n",
    "plt.xlabel('Total Page Views', fontsize = 14)\n",
    "plt.ylabel('Total Page View Counts', fontsize = 14)\n",
    "plt.grid(axis='y', alpha=0.75)"
   ]
  },
  {
   "cell_type": "markdown",
   "id": "particular-congo",
   "metadata": {},
   "source": []
  },
  {
   "cell_type": "code",
   "execution_count": 19,
   "id": "primary-preservation",
   "metadata": {},
   "outputs": [
    {
     "data": {
      "text/plain": [
       "Text(0, 0.5, 'Counts of Page Views')"
      ]
     },
     "execution_count": 19,
     "metadata": {},
     "output_type": "execute_result"
    },
    {
     "data": {
      "image/png": "[encoded data removed]",
      "text/plain": [
       "<Figure size 720x504 with 1 Axes>"
      ]
     },
     "metadata": {},
     "output_type": "display_data"
    }
   ],
   "source": [
    "#checking non-categorical values for outliers\n",
    "fig = plt.figure(figsize =(10, 7))\n",
    "# Creating axes instance\n",
    "boxplot = df.boxplot(column=['Administrative', 'Informational', 'ProductRelated'])\n",
    "plt.title(\"Boxplot of Page Views\", fontsize = 16)\n",
    "plt.xlabel(\"Types of Page Views\", fontsize = 14)\n",
    "plt.ylabel(\"Counts of Page Views\", fontsize= 14 )"
   ]
  },
  {
   "cell_type": "markdown",
   "id": "running-module",
   "metadata": {},
   "source": []
  },
  {
   "cell_type": "code",
   "execution_count": 20,
   "id": "spiritual-april",
   "metadata": {},
   "outputs": [
    {
     "data": {
      "text/plain": [
       "Text(0, 0.5, 'Time Spent on Page ')"
      ]
     },
     "execution_count": 20,
     "metadata": {},
     "output_type": "execute_result"
    },
    {
     "data": {
      "image/png": "[encoded data removed]",
      "text/plain": [
       "<Figure size 720x504 with 1 Axes>"
      ]
     },
     "metadata": {},
     "output_type": "display_data"
    }
   ],
   "source": [
    "#checking non-categorical values for outliers\n",
    "fig = plt.figure(figsize =(10, 7))\n",
    "# Creating axes instance\n",
    "boxplot = df.boxplot(column=['Administrative_Duration', 'Informational_Duration', 'ProductRelated_Duration'])\n",
    "plt.title(\"Boxplot of Durations\", fontsize = 16)\n",
    "plt.xlabel(\"Types of Page View Durations\", fontsize = 14)\n",
    "plt.ylabel(\"Time Spent on Page \", fontsize= 14 )"
   ]
  },
  {
   "cell_type": "markdown",
   "id": "formed-breakdown",
   "metadata": {},
   "source": []
  },
  {
   "cell_type": "code",
   "execution_count": 21,
   "id": "handled-spirit",
   "metadata": {},
   "outputs": [
    {
     "data": {
      "text/plain": [
       "Text(0, 0.5, 'Percentage')"
      ]
     },
     "execution_count": 21,
     "metadata": {},
     "output_type": "execute_result"
    },
    {
     "data": {
      "image/png": "[encoded data removed]",
      "text/plain": [
       "<Figure size 720x504 with 1 Axes>"
      ]
     },
     "metadata": {},
     "output_type": "display_data"
    }
   ],
   "source": [
    "#checking non-categorical values for outliers\n",
    "fig = plt.figure(figsize =(10, 7))\n",
    "# Creating axes instance\n",
    "boxplot = df.boxplot(column=['BounceRates'])\n",
    "plt.title(\"Boxplot of Bounce Rates of Users\", fontsize = 16)\n",
    "plt.ylabel(\"Percentage\", fontsize= 14 )"
   ]
  },
  {
   "cell_type": "markdown",
   "id": "exciting-aluminum",
   "metadata": {},
   "source": []
  },
  {
   "cell_type": "code",
   "execution_count": 22,
   "id": "verbal-affairs",
   "metadata": {},
   "outputs": [
    {
     "data": {
      "text/plain": [
       "Text(0, 0.5, 'Percentage')"
      ]
     },
     "execution_count": 22,
     "metadata": {},
     "output_type": "execute_result"
    },
    {
     "data": {
      "image/png": "[encoded data removed]",
      "text/plain": [
       "<Figure size 720x504 with 1 Axes>"
      ]
     },
     "metadata": {},
     "output_type": "display_data"
    }
   ],
   "source": [
    "#Exit Rates\n",
    "fig = plt.figure(figsize =(10, 7))  \n",
    "# Creating axes instance\n",
    "boxplot = df.boxplot(column=['ExitRates'])\n",
    "plt.title(\"Boxplot of Exit Rates\", fontsize = 16)\n",
    "plt.ylabel(\"Percentage\", fontsize= 14 )"
   ]
  },
  {
   "cell_type": "markdown",
   "id": "dated-horizontal",
   "metadata": {},
   "source": []
  },
  {
   "cell_type": "code",
   "execution_count": 23,
   "id": "honey-vehicle",
   "metadata": {},
   "outputs": [
    {
     "data": {
      "text/plain": [
       "Text(0, 0.5, 'Page Value')"
      ]
     },
     "execution_count": 23,
     "metadata": {},
     "output_type": "execute_result"
    },
    {
     "data": {
      "image/png": "[encoded data removed]",
      "text/plain": [
       "<Figure size 720x504 with 1 Axes>"
      ]
     },
     "metadata": {},
     "output_type": "display_data"
    }
   ],
   "source": [
    "#PageValues \n",
    "fig = plt.figure(figsize =(10, 7))  \n",
    "# Creating axes instance\n",
    "boxplot = df.boxplot(column=['PageValues'])\n",
    "plt.title(\"Boxplot of Page Value\", fontsize = 16)\n",
    "plt.ylabel(\"Page Value\", fontsize= 14 )"
   ]
  },
  {
   "cell_type": "markdown",
   "id": "unsigned-topic",
   "metadata": {},
   "source": []
  },
  {
   "cell_type": "code",
   "execution_count": 24,
   "id": "numerical-permission",
   "metadata": {},
   "outputs": [
    {
     "data": {
      "text/plain": [
       "Text(0, 0.5, 'Total Number of Pages Viewed')"
      ]
     },
     "execution_count": 24,
     "metadata": {},
     "output_type": "execute_result"
    },
    {
     "data": {
      "image/png": "[encoded data removed]",
      "text/plain": [
       "<Figure size 720x504 with 1 Axes>"
      ]
     },
     "metadata": {},
     "output_type": "display_data"
    }
   ],
   "source": [
    "#Total Page Views \n",
    "fig = plt.figure(figsize =(10, 7))  \n",
    "# Creating axes instance\n",
    "boxplot = df.boxplot(column=['totalPageViews'])\n",
    "plt.title(\"Boxplot of Total Page Views\", fontsize = 16)\n",
    "plt.xlabel(\"Total Page Views\", fontsize = 14)\n",
    "plt.ylabel(\"Total Number of Pages Viewed\", fontsize= 14 )"
   ]
  },
  {
   "cell_type": "markdown",
   "id": "independent-exposure",
   "metadata": {},
   "source": []
  },
  {
   "cell_type": "markdown",
   "id": "wicked-honor",
   "metadata": {},
   "source": [
    "<h4> <span style='color:darkolivegreen'> Our histograms of numerical variables indicated skewed distributions. Our boxplots showed numerous outliers; therefore, we subset our numerical variables in df1 and used a for loop to identify each feature’s outliers using IQR and impute with the median. </span> </h4>"
   ]
  },
  {
   "cell_type": "markdown",
   "id": "incorporated-slovak",
   "metadata": {},
   "source": [
    "**Identify Outliers & Impute with mean or median**"
   ]
  },
  {
   "cell_type": "code",
   "execution_count": 25,
   "id": "valued-security",
   "metadata": {},
   "outputs": [],
   "source": [
    "df1 = df.select_dtypes(include=np.number)\n",
    "df1 = df.drop(['TrafficType','SpecialDay', 'OperatingSystems', 'Browser', 'Region', 'Revenue', 'Month', 'VisitorType', 'Weekend', 'Informational', 'Informational_Duration', 'PageValues'], axis = 1)\n",
    "df1.reset_index(inplace=True, drop=True)\n",
    "\n",
    "for col in df1:   \n",
    "    \n",
    "    q3 = np.percentile(df1[col], 75)\n",
    "    q1 = np.percentile(df1[col], 25)\n",
    "    iqr = q3 - q1\n",
    "    \n",
    "    lower = q1 -(1.5 * iqr) \n",
    "    upper = q3 +(1.5 * iqr)\n",
    "    \n",
    "    med = df1[col].median()\n",
    "\n",
    "    df1[col] = np.where((df1[col] >= upper), med ,df1[col]) \n",
    "    \n",
    "    df1[col] = np.where((df1[col] <= lower), med ,df1[col]) "
   ]
  },
  {
   "cell_type": "markdown",
   "id": "hungarian-harbor",
   "metadata": {},
   "source": [
    "<h4> <span style='color:darkolivegreen'> Afterward, we create df_toadd, a data frame that holds all of the variables not included in df1. Using concat, we joined the two data frames and ensured our updated df had no missing data. </span> </h4>"
   ]
  },
  {
   "cell_type": "code",
   "execution_count": 26,
   "id": "thermal-vehicle",
   "metadata": {},
   "outputs": [],
   "source": [
    "# Pull missing variables from original df\n",
    "df_toadd = df[['Informational','Informational_Duration','SpecialDay','Month','OperatingSystems','Browser','Region','VisitorType','PageValues','TrafficType','Weekend', 'Revenue']]"
   ]
  },
  {
   "cell_type": "code",
   "execution_count": 27,
   "id": "fundamental-study",
   "metadata": {},
   "outputs": [
    {
     "data": {
      "text/plain": [
       "Administrative             0\n",
       "Administrative_Duration    0\n",
       "ProductRelated             0\n",
       "ProductRelated_Duration    0\n",
       "BounceRates                0\n",
       "ExitRates                  0\n",
       "totalPageViews             0\n",
       "Informational              0\n",
       "Informational_Duration     0\n",
       "SpecialDay                 0\n",
       "Month                      0\n",
       "OperatingSystems           0\n",
       "Browser                    0\n",
       "Region                     0\n",
       "VisitorType                0\n",
       "PageValues                 0\n",
       "TrafficType                0\n",
       "Weekend                    0\n",
       "Revenue                    0\n",
       "dtype: int64"
      ]
     },
     "execution_count": 27,
     "metadata": {},
     "output_type": "execute_result"
    }
   ],
   "source": [
    "#Merge df_toadd and df1\n",
    "frames = [df1, df_toadd]\n",
    "df = pd.concat([df1, df_toadd], axis=1, join=\"inner\")\n",
    "df.isnull().sum()"
   ]
  },
  {
   "cell_type": "markdown",
   "id": "helpful-offering",
   "metadata": {},
   "source": [
    "**Transform Data Type**"
   ]
  },
  {
   "cell_type": "markdown",
   "id": "sudden-chosen",
   "metadata": {},
   "source": [
    "<h4> <span style='color:darkolivegreen'> We then used the info() function to ensure our variables were the same dimension and identify each variable’s data type.</span> </h4>"
   ]
  },
  {
   "cell_type": "code",
   "execution_count": 28,
   "id": "material-standing",
   "metadata": {},
   "outputs": [
    {
     "name": "stdout",
     "output_type": "stream",
     "text": [
      "<class 'pandas.core.frame.DataFrame'>\n",
      "Int64Index: 11562 entries, 0 to 11941\n",
      "Data columns (total 19 columns):\n",
      " #   Column                   Non-Null Count  Dtype  \n",
      "---  ------                   --------------  -----  \n",
      " 0   Administrative           11562 non-null  float64\n",
      " 1   Administrative_Duration  11562 non-null  float64\n",
      " 2   ProductRelated           11562 non-null  float64\n",
      " 3   ProductRelated_Duration  11562 non-null  float64\n",
      " 4   BounceRates              11562 non-null  float64\n",
      " 5   ExitRates                11562 non-null  float64\n",
      " 6   totalPageViews           11562 non-null  float64\n",
      " 7   Informational            11562 non-null  float64\n",
      " 8   Informational_Duration   11562 non-null  float64\n",
      " 9   SpecialDay               11562 non-null  float64\n",
      " 10  Month                    11562 non-null  object \n",
      " 11  OperatingSystems         11562 non-null  float64\n",
      " 12  Browser                  11562 non-null  int64  \n",
      " 13  Region                   11562 non-null  int64  \n",
      " 14  VisitorType              11562 non-null  object \n",
      " 15  PageValues               11562 non-null  float64\n",
      " 16  TrafficType              11562 non-null  int64  \n",
      " 17  Weekend                  11562 non-null  bool   \n",
      " 18  Revenue                  11562 non-null  bool   \n",
      "dtypes: bool(2), float64(12), int64(3), object(2)\n",
      "memory usage: 1.6+ MB\n"
     ]
    }
   ],
   "source": [
    "df.info()"
   ]
  },
  {
   "cell_type": "markdown",
   "id": "alleged-delay",
   "metadata": {},
   "source": [
    "<h4> <span style='color:darkolivegreen'> We converted our boolean variables to integers for model implementation.</span> </h4>"
   ]
  },
  {
   "cell_type": "code",
   "execution_count": 29,
   "id": "lonely-perth",
   "metadata": {},
   "outputs": [],
   "source": [
    "# Convert Weekend to int\n",
    "df.Weekend = df.Weekend.astype(int)\n",
    "# Convert boolean to binary (int) and count for successful sale\n",
    "df.Revenue = df.Revenue.astype(int)"
   ]
  },
  {
   "cell_type": "markdown",
   "id": "worldwide-lease",
   "metadata": {},
   "source": [
    "<h4> <span style='color:darkolivegreen'> After converting Revenue to an interger, we counted its classes and used a histrogram to visualize. </span> </h4>"
   ]
  },
  {
   "cell_type": "code",
   "execution_count": 30,
   "id": "rubber-probability",
   "metadata": {},
   "outputs": [
    {
     "name": "stdout",
     "output_type": "stream",
     "text": [
      "0    9774\n",
      "1    1788\n",
      "Name: Revenue, dtype: int64\n"
     ]
    },
    {
     "data": {
      "image/png": "[encoded data removed]",
      "text/plain": [
       "<Figure size 432x288 with 1 Axes>"
      ]
     },
     "metadata": {},
     "output_type": "display_data"
    }
   ],
   "source": [
    "print(df.Revenue.value_counts())\n",
    "sns.countplot(x=df['Revenue'],data=df,palette='hls').set_title(\"Frequency of Revenue Type\")\n",
    "plt.show()"
   ]
  },
  {
   "cell_type": "markdown",
   "id": "known-forum",
   "metadata": {},
   "source": [
    "<h4> <span style='color:darkolivegreen'> We created three new, more robust variables (Admin_Dur_View, Prod_Dur_View, and Info_Dur, View) using the three duration and three page variables. The new variables represent the time spent per click for each page type.</span> </h4>"
   ]
  },
  {
   "cell_type": "code",
   "execution_count": 31,
   "id": "subject-playing",
   "metadata": {},
   "outputs": [],
   "source": [
    "#Create Administrative Duration per view column\n",
    "df['Admin_Dur_View'] = df['Administrative_Duration'].div(df['Administrative'])\n",
    "#Create ProductRelated Duration per view column\n",
    "df['Prod_Dur_View'] = df['ProductRelated_Duration'].div(df['ProductRelated'])\n",
    "#Create Informational Duration per view column\n",
    "df['Info_Dur_View'] = df['Informational_Duration'].div(df['Informational'])"
   ]
  },
  {
   "cell_type": "markdown",
   "id": "smaller-estate",
   "metadata": {},
   "source": [
    "<h4> <span style='color:darkolivegreen'> To avoid the possibility of have (Page Duration)/O, we ran the fillna(0) to turn any NaN or inf values to 0. To check that no Nan or inf values remained, we utilized the isnull().sum() </span> </h4>"
   ]
  },
  {
   "cell_type": "code",
   "execution_count": 32,
   "id": "heard-parade",
   "metadata": {},
   "outputs": [
    {
     "data": {
      "text/plain": [
       "Administrative             0\n",
       "Administrative_Duration    0\n",
       "ProductRelated             0\n",
       "ProductRelated_Duration    0\n",
       "BounceRates                0\n",
       "ExitRates                  0\n",
       "totalPageViews             0\n",
       "Informational              0\n",
       "Informational_Duration     0\n",
       "SpecialDay                 0\n",
       "Month                      0\n",
       "OperatingSystems           0\n",
       "Browser                    0\n",
       "Region                     0\n",
       "VisitorType                0\n",
       "PageValues                 0\n",
       "TrafficType                0\n",
       "Weekend                    0\n",
       "Revenue                    0\n",
       "Admin_Dur_View             0\n",
       "Prod_Dur_View              0\n",
       "Info_Dur_View              0\n",
       "dtype: int64"
      ]
     },
     "execution_count": 32,
     "metadata": {},
     "output_type": "execute_result"
    }
   ],
   "source": [
    "#Replace division by zero results in NAN with 0\n",
    "df=df.fillna(0)\n",
    "#Check for any remaining na/nulls\n",
    "df.isnull().sum()"
   ]
  },
  {
   "cell_type": "markdown",
   "id": "defined-sacramento",
   "metadata": {},
   "source": [
    "**Remove redudant features**"
   ]
  },
  {
   "cell_type": "markdown",
   "id": "fossil-cricket",
   "metadata": {},
   "source": [
    "<h4> <span style='color:darkolivegreen'> After the creation of Admin_Dur_View, Info_Dur_View, and Prod_Dur_View, the following variables become redundant: Administrative, Administrative_Duration, Informational, Informational_Duration, ProductRelated, ProductRelated_Duration, and totalPageViews. For that reason, we drop them from the data frame. </span> </h4>"
   ]
  },
  {
   "cell_type": "code",
   "execution_count": 33,
   "id": "perceived-loading",
   "metadata": {},
   "outputs": [],
   "source": [
    "df = df.drop(['Administrative','Administrative_Duration','Informational','Informational_Duration','ProductRelated','ProductRelated_Duration','totalPageViews'], axis = 1)"
   ]
  },
  {
   "cell_type": "markdown",
   "id": "temporal-toyota",
   "metadata": {},
   "source": [
    "<h4> <span style='color:darkolivegreen'> We rearranged our columns so that Admin_Dur_View, Infor_Dur_View, and Prod_Dur_View were the first three columns of our table. This is so that it was easier for the team to look for data when performing further analysis. </span> </h4>"
   ]
  },
  {
   "cell_type": "code",
   "execution_count": 34,
   "id": "unknown-client",
   "metadata": {},
   "outputs": [
    {
     "data": {
      "text/html": [
       "<div>\n",
       "<style scoped>\n",
       "    .dataframe tbody tr th:only-of-type {\n",
       "        vertical-align: middle;\n",
       "    }\n",
       "\n",
       "    .dataframe tbody tr th {\n",
       "        vertical-align: top;\n",
       "    }\n",
       "\n",
       "    .dataframe thead th {\n",
       "        text-align: right;\n",
       "    }\n",
       "</style>\n",
       "<table border=\"1\" class=\"dataframe\">\n",
       "  <thead>\n",
       "    <tr style=\"text-align: right;\">\n",
       "      <th></th>\n",
       "      <th>Admin_Dur_View</th>\n",
       "      <th>Info_Dur_View</th>\n",
       "      <th>Prod_Dur_View</th>\n",
       "      <th>BounceRates</th>\n",
       "      <th>ExitRates</th>\n",
       "      <th>SpecialDay</th>\n",
       "      <th>Month</th>\n",
       "      <th>OperatingSystems</th>\n",
       "      <th>Browser</th>\n",
       "      <th>Region</th>\n",
       "      <th>VisitorType</th>\n",
       "      <th>PageValues</th>\n",
       "      <th>TrafficType</th>\n",
       "      <th>Weekend</th>\n",
       "      <th>Revenue</th>\n",
       "    </tr>\n",
       "  </thead>\n",
       "  <tbody>\n",
       "    <tr>\n",
       "      <th>0</th>\n",
       "      <td>0.0</td>\n",
       "      <td>0.0</td>\n",
       "      <td>0.000000</td>\n",
       "      <td>0.003094</td>\n",
       "      <td>0.025066</td>\n",
       "      <td>0.0</td>\n",
       "      <td>Feb</td>\n",
       "      <td>1.0</td>\n",
       "      <td>1</td>\n",
       "      <td>1</td>\n",
       "      <td>Returning_Visitor</td>\n",
       "      <td>0.0</td>\n",
       "      <td>1</td>\n",
       "      <td>0</td>\n",
       "      <td>0</td>\n",
       "    </tr>\n",
       "    <tr>\n",
       "      <th>1</th>\n",
       "      <td>0.0</td>\n",
       "      <td>0.0</td>\n",
       "      <td>32.000000</td>\n",
       "      <td>0.000000</td>\n",
       "      <td>0.100000</td>\n",
       "      <td>0.0</td>\n",
       "      <td>Feb</td>\n",
       "      <td>2.0</td>\n",
       "      <td>2</td>\n",
       "      <td>1</td>\n",
       "      <td>Returning_Visitor</td>\n",
       "      <td>0.0</td>\n",
       "      <td>2</td>\n",
       "      <td>0</td>\n",
       "      <td>0</td>\n",
       "    </tr>\n",
       "    <tr>\n",
       "      <th>2</th>\n",
       "      <td>0.0</td>\n",
       "      <td>0.0</td>\n",
       "      <td>0.000000</td>\n",
       "      <td>0.003094</td>\n",
       "      <td>0.025066</td>\n",
       "      <td>0.0</td>\n",
       "      <td>Feb</td>\n",
       "      <td>4.0</td>\n",
       "      <td>1</td>\n",
       "      <td>9</td>\n",
       "      <td>Returning_Visitor</td>\n",
       "      <td>0.0</td>\n",
       "      <td>3</td>\n",
       "      <td>0</td>\n",
       "      <td>0</td>\n",
       "    </tr>\n",
       "    <tr>\n",
       "      <th>3</th>\n",
       "      <td>0.0</td>\n",
       "      <td>0.0</td>\n",
       "      <td>1.333333</td>\n",
       "      <td>0.003094</td>\n",
       "      <td>0.025066</td>\n",
       "      <td>0.0</td>\n",
       "      <td>Feb</td>\n",
       "      <td>3.0</td>\n",
       "      <td>2</td>\n",
       "      <td>2</td>\n",
       "      <td>Returning_Visitor</td>\n",
       "      <td>0.0</td>\n",
       "      <td>4</td>\n",
       "      <td>0</td>\n",
       "      <td>0</td>\n",
       "    </tr>\n",
       "    <tr>\n",
       "      <th>4</th>\n",
       "      <td>0.0</td>\n",
       "      <td>0.0</td>\n",
       "      <td>62.750000</td>\n",
       "      <td>0.020000</td>\n",
       "      <td>0.050000</td>\n",
       "      <td>0.0</td>\n",
       "      <td>Feb</td>\n",
       "      <td>3.0</td>\n",
       "      <td>3</td>\n",
       "      <td>1</td>\n",
       "      <td>Returning_Visitor</td>\n",
       "      <td>0.0</td>\n",
       "      <td>4</td>\n",
       "      <td>1</td>\n",
       "      <td>0</td>\n",
       "    </tr>\n",
       "  </tbody>\n",
       "</table>\n",
       "</div>"
      ],
      "text/plain": [
       "   Admin_Dur_View  Info_Dur_View  Prod_Dur_View  BounceRates  ExitRates  \\\n",
       "0             0.0            0.0       0.000000     0.003094   0.025066   \n",
       "1             0.0            0.0      32.000000     0.000000   0.100000   \n",
       "2             0.0            0.0       0.000000     0.003094   0.025066   \n",
       "3             0.0            0.0       1.333333     0.003094   0.025066   \n",
       "4             0.0            0.0      62.750000     0.020000   0.050000   \n",
       "\n",
       "   SpecialDay Month  OperatingSystems  Browser  Region        VisitorType  \\\n",
       "0         0.0   Feb               1.0        1       1  Returning_Visitor   \n",
       "1         0.0   Feb               2.0        2       1  Returning_Visitor   \n",
       "2         0.0   Feb               4.0        1       9  Returning_Visitor   \n",
       "3         0.0   Feb               3.0        2       2  Returning_Visitor   \n",
       "4         0.0   Feb               3.0        3       1  Returning_Visitor   \n",
       "\n",
       "   PageValues  TrafficType  Weekend  Revenue  \n",
       "0         0.0            1        0        0  \n",
       "1         0.0            2        0        0  \n",
       "2         0.0            3        0        0  \n",
       "3         0.0            4        0        0  \n",
       "4         0.0            4        1        0  "
      ]
     },
     "execution_count": 34,
     "metadata": {},
     "output_type": "execute_result"
    }
   ],
   "source": [
    "# Re-arrange the dataframe\n",
    "cols_at_beg = ['Admin_Dur_View', 'Info_Dur_View', 'Prod_Dur_View']\n",
    "df = df[[c for c in cols_at_beg if c in df]+ [c for c in df if c not in cols_at_beg]]\n",
    "df.head()"
   ]
  },
  {
   "cell_type": "markdown",
   "id": "partial-relevance",
   "metadata": {},
   "source": [
    "**Perform Need-based Discretization:**  \n",
    "  \n",
    "<h4> <span style='color:darkolivegreen'>Removed Operating Systems because browsers can be dependent on operating systems (e.g.Safari only available on iOS) and browser optimization is actionable by client. </span> </h4>\n"
   ]
  },
  {
   "cell_type": "code",
   "execution_count": 35,
   "id": "attached-weight",
   "metadata": {},
   "outputs": [],
   "source": [
    "df = df.drop(['OperatingSystems'], axis = 1)"
   ]
  },
  {
   "cell_type": "markdown",
   "id": "portable-outside",
   "metadata": {},
   "source": [
    "# Data Analysis & Visualization"
   ]
  },
  {
   "cell_type": "markdown",
   "id": "fallen-holocaust",
   "metadata": {},
   "source": [
    "**Identify Variable types within data**"
   ]
  },
  {
   "cell_type": "markdown",
   "id": "grand-genesis",
   "metadata": {},
   "source": [
    "===========================Inputs(independent variables)=============================  \n",
    "'Admin_Dur_View': numerical  \n",
    "'Info_Dur_View': numerical  \n",
    "'Prod_Dur_view': numerical  \n",
    "'BounceRates': numerical  \n",
    "'ExitRates': numerical  \n",
    "'PageValues': numerical  \n",
    "'Special Day': categorical  \n",
    "'Month': categorical  \n",
    "'Browser': categorical  \n",
    "'Region': categorical  \n",
    "'TrafficType': categorical  \n",
    "'VisitorType': categorical   \n",
    "'Weekend': boolean converted to integer  \n",
    "==============================Predictor (desired target)=============================  \n",
    "'Revenue': boolean converted to integer  "
   ]
  },
  {
   "cell_type": "code",
   "execution_count": 36,
   "id": "social-constitution",
   "metadata": {},
   "outputs": [
    {
     "name": "stdout",
     "output_type": "stream",
     "text": [
      "Percentage of successful revenue is:  15.46 %\n",
      "Percentage of no revenue is:  84.54 %\n"
     ]
    }
   ],
   "source": [
    "# Counts for sale/no sale in percentage\n",
    "sale_count = len(df[df['Revenue']==1])\n",
    "no_sale_count = len(df[df['Revenue']==0])\n",
    "pct_sale_count = sale_count / (sale_count + no_sale_count)\n",
    "print('Percentage of successful revenue is: ', round(pct_sale_count*100,2),'%')\n",
    "pct_no_sale_count = no_sale_count / (sale_count + no_sale_count)\n",
    "print('Percentage of no revenue is: ', round(pct_no_sale_count*100,2),'%')"
   ]
  },
  {
   "cell_type": "markdown",
   "id": "continent-arrest",
   "metadata": {},
   "source": [
    "<h4> <span style='color:darkolivegreen'>Note: The ratio of no revenue to succesful revenue instances is ~ 85:15. Let's further explore the dataset</span> </h4>"
   ]
  },
  {
   "cell_type": "markdown",
   "id": "dress-indonesian",
   "metadata": {},
   "source": [
    "**Provide Measures of Centrality & distribution**"
   ]
  },
  {
   "cell_type": "code",
   "execution_count": 37,
   "id": "loaded-kansas",
   "metadata": {},
   "outputs": [
    {
     "data": {
      "text/plain": [
       "Admin_Dur_View    14.303725\n",
       "Info_Dur_View     14.916307\n",
       "Prod_Dur_View     38.420597\n",
       "BounceRates        0.005990\n",
       "ExitRates          0.029412\n",
       "SpecialDay         0.063432\n",
       "Browser            2.349075\n",
       "Region             3.140893\n",
       "PageValues         5.933794\n",
       "TrafficType        4.056132\n",
       "Weekend            0.231361\n",
       "Revenue            0.154645\n",
       "dtype: float64"
      ]
     },
     "execution_count": 37,
     "metadata": {},
     "output_type": "execute_result"
    }
   ],
   "source": [
    "df.mean()"
   ]
  },
  {
   "cell_type": "markdown",
   "id": "sporting-landscape",
   "metadata": {},
   "source": [
    "<h4> <span style='color:darkolivegreen'>Interpretation of means:</span> </h4>   \n",
    "  \n",
    "<h4> <span style='color:darkolivegreen'>We see that, as expected for an ecommerce website, visitors, on average, spent the most time on Product Related pages, followed by informational pages, and the least amount of time on Administrative pages. On average, 23% of sessions were on the weekend and 15.4% resulted in a sale.</span> </h4>"
   ]
  },
  {
   "cell_type": "code",
   "execution_count": 38,
   "id": "collaborative-parish",
   "metadata": {},
   "outputs": [
    {
     "data": {
      "text/html": [
       "<div>\n",
       "<style scoped>\n",
       "    .dataframe tbody tr th:only-of-type {\n",
       "        vertical-align: middle;\n",
       "    }\n",
       "\n",
       "    .dataframe tbody tr th {\n",
       "        vertical-align: top;\n",
       "    }\n",
       "\n",
       "    .dataframe thead th {\n",
       "        text-align: right;\n",
       "    }\n",
       "</style>\n",
       "<table border=\"1\" class=\"dataframe\">\n",
       "  <thead>\n",
       "    <tr style=\"text-align: right;\">\n",
       "      <th></th>\n",
       "      <th>Admin_Dur_View</th>\n",
       "      <th>Info_Dur_View</th>\n",
       "      <th>Prod_Dur_View</th>\n",
       "      <th>BounceRates</th>\n",
       "      <th>ExitRates</th>\n",
       "      <th>SpecialDay</th>\n",
       "      <th>Browser</th>\n",
       "      <th>Region</th>\n",
       "      <th>PageValues</th>\n",
       "      <th>TrafficType</th>\n",
       "      <th>Weekend</th>\n",
       "    </tr>\n",
       "    <tr>\n",
       "      <th>Revenue</th>\n",
       "      <th></th>\n",
       "      <th></th>\n",
       "      <th></th>\n",
       "      <th></th>\n",
       "      <th></th>\n",
       "      <th></th>\n",
       "      <th></th>\n",
       "      <th></th>\n",
       "      <th></th>\n",
       "      <th></th>\n",
       "      <th></th>\n",
       "    </tr>\n",
       "  </thead>\n",
       "  <tbody>\n",
       "    <tr>\n",
       "      <th>0</th>\n",
       "      <td>14.225289</td>\n",
       "      <td>13.398905</td>\n",
       "      <td>38.573522</td>\n",
       "      <td>0.006009</td>\n",
       "      <td>0.029453</td>\n",
       "      <td>0.070861</td>\n",
       "      <td>2.334766</td>\n",
       "      <td>3.150501</td>\n",
       "      <td>1.982632</td>\n",
       "      <td>4.056886</td>\n",
       "      <td>0.225905</td>\n",
       "    </tr>\n",
       "    <tr>\n",
       "      <th>1</th>\n",
       "      <td>14.732493</td>\n",
       "      <td>23.211100</td>\n",
       "      <td>37.584644</td>\n",
       "      <td>0.005889</td>\n",
       "      <td>0.029189</td>\n",
       "      <td>0.022819</td>\n",
       "      <td>2.427293</td>\n",
       "      <td>3.088367</td>\n",
       "      <td>27.532597</td>\n",
       "      <td>4.052013</td>\n",
       "      <td>0.261186</td>\n",
       "    </tr>\n",
       "  </tbody>\n",
       "</table>\n",
       "</div>"
      ],
      "text/plain": [
       "         Admin_Dur_View  Info_Dur_View  Prod_Dur_View  BounceRates  ExitRates  \\\n",
       "Revenue                                                                         \n",
       "0             14.225289      13.398905      38.573522     0.006009   0.029453   \n",
       "1             14.732493      23.211100      37.584644     0.005889   0.029189   \n",
       "\n",
       "         SpecialDay   Browser    Region  PageValues  TrafficType   Weekend  \n",
       "Revenue                                                                     \n",
       "0          0.070861  2.334766  3.150501    1.982632     4.056886  0.225905  \n",
       "1          0.022819  2.427293  3.088367   27.532597     4.052013  0.261186  "
      ]
     },
     "execution_count": 38,
     "metadata": {},
     "output_type": "execute_result"
    }
   ],
   "source": [
    "df.groupby('Revenue').mean()"
   ]
  },
  {
   "cell_type": "markdown",
   "id": "greenhouse-clear",
   "metadata": {},
   "source": [
    "<h4> <span style='color:darkolivegreen'>Analysis: </span> </h4>   \n",
    "  \n",
    "<h4> <span style='color:darkolivegreen'>Successful Revenue have higher average values for: Info_Dur_View, PageValues; lower average values for Prod_Dur_View, SpecialDay; the rest of the variables have little difference.</span> </h4>"
   ]
  },
  {
   "cell_type": "code",
   "execution_count": 39,
   "id": "expensive-committee",
   "metadata": {},
   "outputs": [
    {
     "data": {
      "text/html": [
       "<div>\n",
       "<style scoped>\n",
       "    .dataframe tbody tr th:only-of-type {\n",
       "        vertical-align: middle;\n",
       "    }\n",
       "\n",
       "    .dataframe tbody tr th {\n",
       "        vertical-align: top;\n",
       "    }\n",
       "\n",
       "    .dataframe thead th {\n",
       "        text-align: right;\n",
       "    }\n",
       "</style>\n",
       "<table border=\"1\" class=\"dataframe\">\n",
       "  <thead>\n",
       "    <tr style=\"text-align: right;\">\n",
       "      <th></th>\n",
       "      <th>Admin_Dur_View</th>\n",
       "      <th>Info_Dur_View</th>\n",
       "      <th>Prod_Dur_View</th>\n",
       "      <th>BounceRates</th>\n",
       "      <th>ExitRates</th>\n",
       "      <th>SpecialDay</th>\n",
       "      <th>Browser</th>\n",
       "      <th>Region</th>\n",
       "      <th>PageValues</th>\n",
       "      <th>TrafficType</th>\n",
       "      <th>Weekend</th>\n",
       "      <th>Revenue</th>\n",
       "    </tr>\n",
       "    <tr>\n",
       "      <th>Month</th>\n",
       "      <th></th>\n",
       "      <th></th>\n",
       "      <th></th>\n",
       "      <th></th>\n",
       "      <th></th>\n",
       "      <th></th>\n",
       "      <th></th>\n",
       "      <th></th>\n",
       "      <th></th>\n",
       "      <th></th>\n",
       "      <th></th>\n",
       "      <th></th>\n",
       "    </tr>\n",
       "  </thead>\n",
       "  <tbody>\n",
       "    <tr>\n",
       "      <th>Aug</th>\n",
       "      <td>21.232079</td>\n",
       "      <td>16.823422</td>\n",
       "      <td>40.294538</td>\n",
       "      <td>0.006486</td>\n",
       "      <td>0.027475</td>\n",
       "      <td>0.000000</td>\n",
       "      <td>2.355450</td>\n",
       "      <td>3.248815</td>\n",
       "      <td>5.843886</td>\n",
       "      <td>3.507109</td>\n",
       "      <td>0.227488</td>\n",
       "      <td>0.177725</td>\n",
       "    </tr>\n",
       "    <tr>\n",
       "      <th>Dec</th>\n",
       "      <td>14.396003</td>\n",
       "      <td>15.229784</td>\n",
       "      <td>40.348774</td>\n",
       "      <td>0.005977</td>\n",
       "      <td>0.028192</td>\n",
       "      <td>0.000000</td>\n",
       "      <td>2.584381</td>\n",
       "      <td>3.388484</td>\n",
       "      <td>6.756185</td>\n",
       "      <td>4.066843</td>\n",
       "      <td>0.210457</td>\n",
       "      <td>0.123097</td>\n",
       "    </tr>\n",
       "    <tr>\n",
       "      <th>Feb</th>\n",
       "      <td>2.020121</td>\n",
       "      <td>1.355556</td>\n",
       "      <td>37.351380</td>\n",
       "      <td>0.004169</td>\n",
       "      <td>0.034689</td>\n",
       "      <td>0.231111</td>\n",
       "      <td>2.166667</td>\n",
       "      <td>2.627778</td>\n",
       "      <td>0.910149</td>\n",
       "      <td>2.783333</td>\n",
       "      <td>0.155556</td>\n",
       "      <td>0.016667</td>\n",
       "    </tr>\n",
       "    <tr>\n",
       "      <th>Jul</th>\n",
       "      <td>21.359726</td>\n",
       "      <td>18.434564</td>\n",
       "      <td>38.715820</td>\n",
       "      <td>0.006111</td>\n",
       "      <td>0.028368</td>\n",
       "      <td>0.000000</td>\n",
       "      <td>2.356295</td>\n",
       "      <td>3.451306</td>\n",
       "      <td>4.185711</td>\n",
       "      <td>3.672209</td>\n",
       "      <td>0.239905</td>\n",
       "      <td>0.154394</td>\n",
       "    </tr>\n",
       "    <tr>\n",
       "      <th>June</th>\n",
       "      <td>17.555790</td>\n",
       "      <td>7.090725</td>\n",
       "      <td>40.519328</td>\n",
       "      <td>0.005225</td>\n",
       "      <td>0.025546</td>\n",
       "      <td>0.000000</td>\n",
       "      <td>2.328520</td>\n",
       "      <td>3.122744</td>\n",
       "      <td>3.512855</td>\n",
       "      <td>4.231047</td>\n",
       "      <td>0.166065</td>\n",
       "      <td>0.097473</td>\n",
       "    </tr>\n",
       "    <tr>\n",
       "      <th>Mar</th>\n",
       "      <td>12.111063</td>\n",
       "      <td>15.033477</td>\n",
       "      <td>38.048085</td>\n",
       "      <td>0.004793</td>\n",
       "      <td>0.029643</td>\n",
       "      <td>0.000000</td>\n",
       "      <td>2.290270</td>\n",
       "      <td>3.031892</td>\n",
       "      <td>4.009266</td>\n",
       "      <td>3.176216</td>\n",
       "      <td>0.248108</td>\n",
       "      <td>0.100000</td>\n",
       "    </tr>\n",
       "    <tr>\n",
       "      <th>May</th>\n",
       "      <td>12.622533</td>\n",
       "      <td>11.991647</td>\n",
       "      <td>37.469119</td>\n",
       "      <td>0.006598</td>\n",
       "      <td>0.031861</td>\n",
       "      <td>0.213453</td>\n",
       "      <td>2.367479</td>\n",
       "      <td>3.117865</td>\n",
       "      <td>5.469606</td>\n",
       "      <td>4.457575</td>\n",
       "      <td>0.210429</td>\n",
       "      <td>0.108917</td>\n",
       "    </tr>\n",
       "    <tr>\n",
       "      <th>Nov</th>\n",
       "      <td>14.026237</td>\n",
       "      <td>18.332399</td>\n",
       "      <td>38.718799</td>\n",
       "      <td>0.006078</td>\n",
       "      <td>0.028415</td>\n",
       "      <td>0.000000</td>\n",
       "      <td>2.247400</td>\n",
       "      <td>3.033432</td>\n",
       "      <td>7.402075</td>\n",
       "      <td>4.451337</td>\n",
       "      <td>0.263001</td>\n",
       "      <td>0.259287</td>\n",
       "    </tr>\n",
       "    <tr>\n",
       "      <th>Oct</th>\n",
       "      <td>19.513075</td>\n",
       "      <td>18.422626</td>\n",
       "      <td>39.035859</td>\n",
       "      <td>0.005977</td>\n",
       "      <td>0.026765</td>\n",
       "      <td>0.000000</td>\n",
       "      <td>2.231499</td>\n",
       "      <td>3.214421</td>\n",
       "      <td>8.684554</td>\n",
       "      <td>4.347249</td>\n",
       "      <td>0.269450</td>\n",
       "      <td>0.210626</td>\n",
       "    </tr>\n",
       "    <tr>\n",
       "      <th>Sep</th>\n",
       "      <td>20.615059</td>\n",
       "      <td>15.068412</td>\n",
       "      <td>34.856938</td>\n",
       "      <td>0.006706</td>\n",
       "      <td>0.027010</td>\n",
       "      <td>0.000000</td>\n",
       "      <td>2.489796</td>\n",
       "      <td>3.308390</td>\n",
       "      <td>7.676775</td>\n",
       "      <td>3.301587</td>\n",
       "      <td>0.215420</td>\n",
       "      <td>0.192744</td>\n",
       "    </tr>\n",
       "  </tbody>\n",
       "</table>\n",
       "</div>"
      ],
      "text/plain": [
       "       Admin_Dur_View  Info_Dur_View  Prod_Dur_View  BounceRates  ExitRates  \\\n",
       "Month                                                                         \n",
       "Aug         21.232079      16.823422      40.294538     0.006486   0.027475   \n",
       "Dec         14.396003      15.229784      40.348774     0.005977   0.028192   \n",
       "Feb          2.020121       1.355556      37.351380     0.004169   0.034689   \n",
       "Jul         21.359726      18.434564      38.715820     0.006111   0.028368   \n",
       "June        17.555790       7.090725      40.519328     0.005225   0.025546   \n",
       "Mar         12.111063      15.033477      38.048085     0.004793   0.029643   \n",
       "May         12.622533      11.991647      37.469119     0.006598   0.031861   \n",
       "Nov         14.026237      18.332399      38.718799     0.006078   0.028415   \n",
       "Oct         19.513075      18.422626      39.035859     0.005977   0.026765   \n",
       "Sep         20.615059      15.068412      34.856938     0.006706   0.027010   \n",
       "\n",
       "       SpecialDay   Browser    Region  PageValues  TrafficType   Weekend  \\\n",
       "Month                                                                      \n",
       "Aug      0.000000  2.355450  3.248815    5.843886     3.507109  0.227488   \n",
       "Dec      0.000000  2.584381  3.388484    6.756185     4.066843  0.210457   \n",
       "Feb      0.231111  2.166667  2.627778    0.910149     2.783333  0.155556   \n",
       "Jul      0.000000  2.356295  3.451306    4.185711     3.672209  0.239905   \n",
       "June     0.000000  2.328520  3.122744    3.512855     4.231047  0.166065   \n",
       "Mar      0.000000  2.290270  3.031892    4.009266     3.176216  0.248108   \n",
       "May      0.213453  2.367479  3.117865    5.469606     4.457575  0.210429   \n",
       "Nov      0.000000  2.247400  3.033432    7.402075     4.451337  0.263001   \n",
       "Oct      0.000000  2.231499  3.214421    8.684554     4.347249  0.269450   \n",
       "Sep      0.000000  2.489796  3.308390    7.676775     3.301587  0.215420   \n",
       "\n",
       "        Revenue  \n",
       "Month            \n",
       "Aug    0.177725  \n",
       "Dec    0.123097  \n",
       "Feb    0.016667  \n",
       "Jul    0.154394  \n",
       "June   0.097473  \n",
       "Mar    0.100000  \n",
       "May    0.108917  \n",
       "Nov    0.259287  \n",
       "Oct    0.210626  \n",
       "Sep    0.192744  "
      ]
     },
     "execution_count": 39,
     "metadata": {},
     "output_type": "execute_result"
    }
   ],
   "source": [
    "df.groupby('Month').mean()"
   ]
  },
  {
   "cell_type": "markdown",
   "id": "complicated-rebecca",
   "metadata": {},
   "source": [
    "<h4> <span style='color:darkolivegreen'>Analysis: </span> </h4>   \n",
    "  \n",
    "<h4> <span style='color:darkolivegreen'>As it relates to Revenue, certain months have a much higher revenue success rate than others, indicating that month is a determinant that should be considered.</span> </h4>"
   ]
  },
  {
   "cell_type": "code",
   "execution_count": 40,
   "id": "permanent-enlargement",
   "metadata": {},
   "outputs": [
    {
     "data": {
      "text/html": [
       "<div>\n",
       "<style scoped>\n",
       "    .dataframe tbody tr th:only-of-type {\n",
       "        vertical-align: middle;\n",
       "    }\n",
       "\n",
       "    .dataframe tbody tr th {\n",
       "        vertical-align: top;\n",
       "    }\n",
       "\n",
       "    .dataframe thead th {\n",
       "        text-align: right;\n",
       "    }\n",
       "</style>\n",
       "<table border=\"1\" class=\"dataframe\">\n",
       "  <thead>\n",
       "    <tr style=\"text-align: right;\">\n",
       "      <th></th>\n",
       "      <th>Admin_Dur_View</th>\n",
       "      <th>Info_Dur_View</th>\n",
       "      <th>Prod_Dur_View</th>\n",
       "      <th>BounceRates</th>\n",
       "      <th>ExitRates</th>\n",
       "      <th>SpecialDay</th>\n",
       "      <th>Region</th>\n",
       "      <th>PageValues</th>\n",
       "      <th>TrafficType</th>\n",
       "      <th>Weekend</th>\n",
       "      <th>Revenue</th>\n",
       "    </tr>\n",
       "    <tr>\n",
       "      <th>Browser</th>\n",
       "      <th></th>\n",
       "      <th></th>\n",
       "      <th></th>\n",
       "      <th></th>\n",
       "      <th></th>\n",
       "      <th></th>\n",
       "      <th></th>\n",
       "      <th></th>\n",
       "      <th></th>\n",
       "      <th></th>\n",
       "      <th></th>\n",
       "    </tr>\n",
       "  </thead>\n",
       "  <tbody>\n",
       "    <tr>\n",
       "      <th>1</th>\n",
       "      <td>14.404301</td>\n",
       "      <td>12.022007</td>\n",
       "      <td>39.800192</td>\n",
       "      <td>0.006199</td>\n",
       "      <td>0.029358</td>\n",
       "      <td>0.053178</td>\n",
       "      <td>2.884998</td>\n",
       "      <td>5.658653</td>\n",
       "      <td>3.401643</td>\n",
       "      <td>0.286208</td>\n",
       "      <td>0.150022</td>\n",
       "    </tr>\n",
       "    <tr>\n",
       "      <th>2</th>\n",
       "      <td>14.336596</td>\n",
       "      <td>16.484068</td>\n",
       "      <td>38.248374</td>\n",
       "      <td>0.005949</td>\n",
       "      <td>0.029281</td>\n",
       "      <td>0.065935</td>\n",
       "      <td>3.172603</td>\n",
       "      <td>5.770341</td>\n",
       "      <td>4.282137</td>\n",
       "      <td>0.222817</td>\n",
       "      <td>0.153321</td>\n",
       "    </tr>\n",
       "    <tr>\n",
       "      <th>3</th>\n",
       "      <td>13.064464</td>\n",
       "      <td>11.741843</td>\n",
       "      <td>31.494910</td>\n",
       "      <td>0.006250</td>\n",
       "      <td>0.029660</td>\n",
       "      <td>0.097030</td>\n",
       "      <td>2.792079</td>\n",
       "      <td>2.684449</td>\n",
       "      <td>4.138614</td>\n",
       "      <td>0.326733</td>\n",
       "      <td>0.049505</td>\n",
       "    </tr>\n",
       "    <tr>\n",
       "      <th>4</th>\n",
       "      <td>12.349921</td>\n",
       "      <td>10.426278</td>\n",
       "      <td>37.227339</td>\n",
       "      <td>0.005886</td>\n",
       "      <td>0.028593</td>\n",
       "      <td>0.058686</td>\n",
       "      <td>3.286131</td>\n",
       "      <td>6.741575</td>\n",
       "      <td>3.086131</td>\n",
       "      <td>0.156204</td>\n",
       "      <td>0.173723</td>\n",
       "    </tr>\n",
       "    <tr>\n",
       "      <th>5</th>\n",
       "      <td>13.272753</td>\n",
       "      <td>12.407354</td>\n",
       "      <td>39.234802</td>\n",
       "      <td>0.006363</td>\n",
       "      <td>0.031689</td>\n",
       "      <td>0.068636</td>\n",
       "      <td>3.086364</td>\n",
       "      <td>8.292766</td>\n",
       "      <td>3.297727</td>\n",
       "      <td>0.200000</td>\n",
       "      <td>0.188636</td>\n",
       "    </tr>\n",
       "    <tr>\n",
       "      <th>6</th>\n",
       "      <td>18.271957</td>\n",
       "      <td>18.747087</td>\n",
       "      <td>36.965154</td>\n",
       "      <td>0.005867</td>\n",
       "      <td>0.032310</td>\n",
       "      <td>0.099401</td>\n",
       "      <td>2.904192</td>\n",
       "      <td>5.454062</td>\n",
       "      <td>3.766467</td>\n",
       "      <td>0.179641</td>\n",
       "      <td>0.119760</td>\n",
       "    </tr>\n",
       "    <tr>\n",
       "      <th>7</th>\n",
       "      <td>15.249180</td>\n",
       "      <td>14.914130</td>\n",
       "      <td>38.048085</td>\n",
       "      <td>0.006382</td>\n",
       "      <td>0.031424</td>\n",
       "      <td>0.043478</td>\n",
       "      <td>3.478261</td>\n",
       "      <td>3.674728</td>\n",
       "      <td>3.956522</td>\n",
       "      <td>0.282609</td>\n",
       "      <td>0.130435</td>\n",
       "    </tr>\n",
       "    <tr>\n",
       "      <th>8</th>\n",
       "      <td>14.148937</td>\n",
       "      <td>2.109756</td>\n",
       "      <td>37.809787</td>\n",
       "      <td>0.005612</td>\n",
       "      <td>0.030626</td>\n",
       "      <td>0.055285</td>\n",
       "      <td>3.373984</td>\n",
       "      <td>4.987323</td>\n",
       "      <td>6.569106</td>\n",
       "      <td>0.341463</td>\n",
       "      <td>0.162602</td>\n",
       "    </tr>\n",
       "    <tr>\n",
       "      <th>9</th>\n",
       "      <td>0.000000</td>\n",
       "      <td>0.000000</td>\n",
       "      <td>14.750000</td>\n",
       "      <td>0.000000</td>\n",
       "      <td>0.050000</td>\n",
       "      <td>0.000000</td>\n",
       "      <td>9.000000</td>\n",
       "      <td>0.000000</td>\n",
       "      <td>2.000000</td>\n",
       "      <td>0.000000</td>\n",
       "      <td>0.000000</td>\n",
       "    </tr>\n",
       "    <tr>\n",
       "      <th>10</th>\n",
       "      <td>18.088426</td>\n",
       "      <td>23.156490</td>\n",
       "      <td>34.323453</td>\n",
       "      <td>0.004886</td>\n",
       "      <td>0.028962</td>\n",
       "      <td>0.077419</td>\n",
       "      <td>3.129032</td>\n",
       "      <td>6.310312</td>\n",
       "      <td>2.645161</td>\n",
       "      <td>0.212903</td>\n",
       "      <td>0.174194</td>\n",
       "    </tr>\n",
       "    <tr>\n",
       "      <th>11</th>\n",
       "      <td>18.477619</td>\n",
       "      <td>2.600000</td>\n",
       "      <td>86.281240</td>\n",
       "      <td>0.008094</td>\n",
       "      <td>0.036412</td>\n",
       "      <td>0.000000</td>\n",
       "      <td>4.400000</td>\n",
       "      <td>5.237705</td>\n",
       "      <td>7.000000</td>\n",
       "      <td>0.000000</td>\n",
       "      <td>0.200000</td>\n",
       "    </tr>\n",
       "    <tr>\n",
       "      <th>12</th>\n",
       "      <td>10.489397</td>\n",
       "      <td>0.000000</td>\n",
       "      <td>23.858106</td>\n",
       "      <td>0.003796</td>\n",
       "      <td>0.032479</td>\n",
       "      <td>0.050000</td>\n",
       "      <td>4.000000</td>\n",
       "      <td>0.000000</td>\n",
       "      <td>2.000000</td>\n",
       "      <td>0.125000</td>\n",
       "      <td>0.125000</td>\n",
       "    </tr>\n",
       "    <tr>\n",
       "      <th>13</th>\n",
       "      <td>18.087988</td>\n",
       "      <td>1.733833</td>\n",
       "      <td>40.921275</td>\n",
       "      <td>0.004831</td>\n",
       "      <td>0.027622</td>\n",
       "      <td>0.000000</td>\n",
       "      <td>9.000000</td>\n",
       "      <td>23.792688</td>\n",
       "      <td>19.700000</td>\n",
       "      <td>0.040000</td>\n",
       "      <td>0.280000</td>\n",
       "    </tr>\n",
       "  </tbody>\n",
       "</table>\n",
       "</div>"
      ],
      "text/plain": [
       "         Admin_Dur_View  Info_Dur_View  Prod_Dur_View  BounceRates  ExitRates  \\\n",
       "Browser                                                                         \n",
       "1             14.404301      12.022007      39.800192     0.006199   0.029358   \n",
       "2             14.336596      16.484068      38.248374     0.005949   0.029281   \n",
       "3             13.064464      11.741843      31.494910     0.006250   0.029660   \n",
       "4             12.349921      10.426278      37.227339     0.005886   0.028593   \n",
       "5             13.272753      12.407354      39.234802     0.006363   0.031689   \n",
       "6             18.271957      18.747087      36.965154     0.005867   0.032310   \n",
       "7             15.249180      14.914130      38.048085     0.006382   0.031424   \n",
       "8             14.148937       2.109756      37.809787     0.005612   0.030626   \n",
       "9              0.000000       0.000000      14.750000     0.000000   0.050000   \n",
       "10            18.088426      23.156490      34.323453     0.004886   0.028962   \n",
       "11            18.477619       2.600000      86.281240     0.008094   0.036412   \n",
       "12            10.489397       0.000000      23.858106     0.003796   0.032479   \n",
       "13            18.087988       1.733833      40.921275     0.004831   0.027622   \n",
       "\n",
       "         SpecialDay    Region  PageValues  TrafficType   Weekend   Revenue  \n",
       "Browser                                                                     \n",
       "1          0.053178  2.884998    5.658653     3.401643  0.286208  0.150022  \n",
       "2          0.065935  3.172603    5.770341     4.282137  0.222817  0.153321  \n",
       "3          0.097030  2.792079    2.684449     4.138614  0.326733  0.049505  \n",
       "4          0.058686  3.286131    6.741575     3.086131  0.156204  0.173723  \n",
       "5          0.068636  3.086364    8.292766     3.297727  0.200000  0.188636  \n",
       "6          0.099401  2.904192    5.454062     3.766467  0.179641  0.119760  \n",
       "7          0.043478  3.478261    3.674728     3.956522  0.282609  0.130435  \n",
       "8          0.055285  3.373984    4.987323     6.569106  0.341463  0.162602  \n",
       "9          0.000000  9.000000    0.000000     2.000000  0.000000  0.000000  \n",
       "10         0.077419  3.129032    6.310312     2.645161  0.212903  0.174194  \n",
       "11         0.000000  4.400000    5.237705     7.000000  0.000000  0.200000  \n",
       "12         0.050000  4.000000    0.000000     2.000000  0.125000  0.125000  \n",
       "13         0.000000  9.000000   23.792688    19.700000  0.040000  0.280000  "
      ]
     },
     "execution_count": 40,
     "metadata": {},
     "output_type": "execute_result"
    }
   ],
   "source": [
    "df.groupby('Browser').mean()"
   ]
  },
  {
   "cell_type": "markdown",
   "id": "german-comfort",
   "metadata": {},
   "source": [
    "<h4> <span style='color:darkolivegreen'>Analysis: </span> </h4>   \n",
    "  \n",
    "<h4> <span style='color:darkolivegreen'>As it relates to Revenue, Browser types range of values indicates that certain browsers are more likely to result in succesful revenue - indicating that Browser is a determinant that should be considered.</span> </h4>"
   ]
  },
  {
   "cell_type": "code",
   "execution_count": 41,
   "id": "brown-possible",
   "metadata": {},
   "outputs": [
    {
     "data": {
      "text/html": [
       "<div>\n",
       "<style scoped>\n",
       "    .dataframe tbody tr th:only-of-type {\n",
       "        vertical-align: middle;\n",
       "    }\n",
       "\n",
       "    .dataframe tbody tr th {\n",
       "        vertical-align: top;\n",
       "    }\n",
       "\n",
       "    .dataframe thead th {\n",
       "        text-align: right;\n",
       "    }\n",
       "</style>\n",
       "<table border=\"1\" class=\"dataframe\">\n",
       "  <thead>\n",
       "    <tr style=\"text-align: right;\">\n",
       "      <th></th>\n",
       "      <th>Admin_Dur_View</th>\n",
       "      <th>Info_Dur_View</th>\n",
       "      <th>Prod_Dur_View</th>\n",
       "      <th>BounceRates</th>\n",
       "      <th>ExitRates</th>\n",
       "      <th>SpecialDay</th>\n",
       "      <th>Browser</th>\n",
       "      <th>Region</th>\n",
       "      <th>PageValues</th>\n",
       "      <th>Weekend</th>\n",
       "      <th>Revenue</th>\n",
       "    </tr>\n",
       "    <tr>\n",
       "      <th>TrafficType</th>\n",
       "      <th></th>\n",
       "      <th></th>\n",
       "      <th></th>\n",
       "      <th></th>\n",
       "      <th></th>\n",
       "      <th></th>\n",
       "      <th></th>\n",
       "      <th></th>\n",
       "      <th></th>\n",
       "      <th></th>\n",
       "      <th></th>\n",
       "    </tr>\n",
       "  </thead>\n",
       "  <tbody>\n",
       "    <tr>\n",
       "      <th>1</th>\n",
       "      <td>14.816317</td>\n",
       "      <td>10.869426</td>\n",
       "      <td>38.452305</td>\n",
       "      <td>0.005665</td>\n",
       "      <td>0.029449</td>\n",
       "      <td>0.042419</td>\n",
       "      <td>2.506263</td>\n",
       "      <td>3.195680</td>\n",
       "      <td>3.463016</td>\n",
       "      <td>0.209503</td>\n",
       "      <td>0.105832</td>\n",
       "    </tr>\n",
       "    <tr>\n",
       "      <th>2</th>\n",
       "      <td>13.326483</td>\n",
       "      <td>22.724776</td>\n",
       "      <td>39.026500</td>\n",
       "      <td>0.005956</td>\n",
       "      <td>0.028833</td>\n",
       "      <td>0.036585</td>\n",
       "      <td>2.192595</td>\n",
       "      <td>3.136778</td>\n",
       "      <td>8.470558</td>\n",
       "      <td>0.254490</td>\n",
       "      <td>0.217463</td>\n",
       "    </tr>\n",
       "    <tr>\n",
       "      <th>3</th>\n",
       "      <td>14.350545</td>\n",
       "      <td>9.429246</td>\n",
       "      <td>38.071128</td>\n",
       "      <td>0.006011</td>\n",
       "      <td>0.030127</td>\n",
       "      <td>0.093244</td>\n",
       "      <td>2.254771</td>\n",
       "      <td>2.956679</td>\n",
       "      <td>3.193037</td>\n",
       "      <td>0.176895</td>\n",
       "      <td>0.084580</td>\n",
       "    </tr>\n",
       "    <tr>\n",
       "      <th>4</th>\n",
       "      <td>14.015143</td>\n",
       "      <td>13.476790</td>\n",
       "      <td>36.644210</td>\n",
       "      <td>0.006930</td>\n",
       "      <td>0.031544</td>\n",
       "      <td>0.124615</td>\n",
       "      <td>2.295192</td>\n",
       "      <td>3.157692</td>\n",
       "      <td>7.149750</td>\n",
       "      <td>0.275000</td>\n",
       "      <td>0.157692</td>\n",
       "    </tr>\n",
       "    <tr>\n",
       "      <th>5</th>\n",
       "      <td>19.420835</td>\n",
       "      <td>9.977134</td>\n",
       "      <td>36.517059</td>\n",
       "      <td>0.005796</td>\n",
       "      <td>0.027875</td>\n",
       "      <td>0.044980</td>\n",
       "      <td>2.477912</td>\n",
       "      <td>2.831325</td>\n",
       "      <td>7.708445</td>\n",
       "      <td>0.244980</td>\n",
       "      <td>0.204819</td>\n",
       "    </tr>\n",
       "    <tr>\n",
       "      <th>6</th>\n",
       "      <td>14.189163</td>\n",
       "      <td>14.617152</td>\n",
       "      <td>38.072968</td>\n",
       "      <td>0.005582</td>\n",
       "      <td>0.028992</td>\n",
       "      <td>0.129665</td>\n",
       "      <td>2.569378</td>\n",
       "      <td>3.356459</td>\n",
       "      <td>5.271926</td>\n",
       "      <td>0.217703</td>\n",
       "      <td>0.119617</td>\n",
       "    </tr>\n",
       "    <tr>\n",
       "      <th>7</th>\n",
       "      <td>12.893972</td>\n",
       "      <td>16.983020</td>\n",
       "      <td>33.873375</td>\n",
       "      <td>0.005621</td>\n",
       "      <td>0.026810</td>\n",
       "      <td>0.052632</td>\n",
       "      <td>2.315789</td>\n",
       "      <td>2.605263</td>\n",
       "      <td>13.372544</td>\n",
       "      <td>0.315789</td>\n",
       "      <td>0.315789</td>\n",
       "    </tr>\n",
       "    <tr>\n",
       "      <th>8</th>\n",
       "      <td>11.308582</td>\n",
       "      <td>14.511467</td>\n",
       "      <td>39.188469</td>\n",
       "      <td>0.006358</td>\n",
       "      <td>0.028213</td>\n",
       "      <td>0.000000</td>\n",
       "      <td>2.123810</td>\n",
       "      <td>3.095238</td>\n",
       "      <td>10.813665</td>\n",
       "      <td>0.298413</td>\n",
       "      <td>0.285714</td>\n",
       "    </tr>\n",
       "    <tr>\n",
       "      <th>9</th>\n",
       "      <td>18.879613</td>\n",
       "      <td>16.735000</td>\n",
       "      <td>41.507991</td>\n",
       "      <td>0.006685</td>\n",
       "      <td>0.028554</td>\n",
       "      <td>0.000000</td>\n",
       "      <td>1.675000</td>\n",
       "      <td>2.675000</td>\n",
       "      <td>4.009486</td>\n",
       "      <td>0.950000</td>\n",
       "      <td>0.100000</td>\n",
       "    </tr>\n",
       "    <tr>\n",
       "      <th>10</th>\n",
       "      <td>14.809547</td>\n",
       "      <td>12.906380</td>\n",
       "      <td>36.187019</td>\n",
       "      <td>0.005677</td>\n",
       "      <td>0.027992</td>\n",
       "      <td>0.000000</td>\n",
       "      <td>2.007317</td>\n",
       "      <td>3.021951</td>\n",
       "      <td>6.572327</td>\n",
       "      <td>0.229268</td>\n",
       "      <td>0.202439</td>\n",
       "    </tr>\n",
       "    <tr>\n",
       "      <th>11</th>\n",
       "      <td>12.410693</td>\n",
       "      <td>9.345651</td>\n",
       "      <td>46.273553</td>\n",
       "      <td>0.006008</td>\n",
       "      <td>0.030494</td>\n",
       "      <td>0.068722</td>\n",
       "      <td>3.325991</td>\n",
       "      <td>3.202643</td>\n",
       "      <td>4.996743</td>\n",
       "      <td>0.392070</td>\n",
       "      <td>0.193833</td>\n",
       "    </tr>\n",
       "    <tr>\n",
       "      <th>12</th>\n",
       "      <td>54.000000</td>\n",
       "      <td>0.000000</td>\n",
       "      <td>35.083333</td>\n",
       "      <td>0.000000</td>\n",
       "      <td>0.020000</td>\n",
       "      <td>0.000000</td>\n",
       "      <td>4.000000</td>\n",
       "      <td>3.000000</td>\n",
       "      <td>0.000000</td>\n",
       "      <td>0.000000</td>\n",
       "      <td>0.000000</td>\n",
       "    </tr>\n",
       "    <tr>\n",
       "      <th>13</th>\n",
       "      <td>15.335552</td>\n",
       "      <td>8.924606</td>\n",
       "      <td>37.434039</td>\n",
       "      <td>0.006065</td>\n",
       "      <td>0.029498</td>\n",
       "      <td>0.138240</td>\n",
       "      <td>2.053391</td>\n",
       "      <td>3.118326</td>\n",
       "      <td>2.276732</td>\n",
       "      <td>0.147186</td>\n",
       "      <td>0.060606</td>\n",
       "    </tr>\n",
       "    <tr>\n",
       "      <th>14</th>\n",
       "      <td>12.141346</td>\n",
       "      <td>25.629594</td>\n",
       "      <td>40.289603</td>\n",
       "      <td>0.013226</td>\n",
       "      <td>0.037513</td>\n",
       "      <td>0.092308</td>\n",
       "      <td>2.692308</td>\n",
       "      <td>3.923077</td>\n",
       "      <td>4.936097</td>\n",
       "      <td>0.538462</td>\n",
       "      <td>0.153846</td>\n",
       "    </tr>\n",
       "    <tr>\n",
       "      <th>15</th>\n",
       "      <td>23.164146</td>\n",
       "      <td>3.827327</td>\n",
       "      <td>29.413736</td>\n",
       "      <td>0.007120</td>\n",
       "      <td>0.037109</td>\n",
       "      <td>0.075676</td>\n",
       "      <td>1.513514</td>\n",
       "      <td>3.000000</td>\n",
       "      <td>0.037454</td>\n",
       "      <td>0.432432</td>\n",
       "      <td>0.000000</td>\n",
       "    </tr>\n",
       "    <tr>\n",
       "      <th>16</th>\n",
       "      <td>0.000000</td>\n",
       "      <td>0.000000</td>\n",
       "      <td>17.403241</td>\n",
       "      <td>0.002062</td>\n",
       "      <td>0.037522</td>\n",
       "      <td>0.000000</td>\n",
       "      <td>2.000000</td>\n",
       "      <td>3.333333</td>\n",
       "      <td>0.000000</td>\n",
       "      <td>0.000000</td>\n",
       "      <td>0.333333</td>\n",
       "    </tr>\n",
       "    <tr>\n",
       "      <th>17</th>\n",
       "      <td>6.694444</td>\n",
       "      <td>0.000000</td>\n",
       "      <td>21.849593</td>\n",
       "      <td>0.003094</td>\n",
       "      <td>0.073413</td>\n",
       "      <td>1.000000</td>\n",
       "      <td>1.000000</td>\n",
       "      <td>1.000000</td>\n",
       "      <td>0.000000</td>\n",
       "      <td>1.000000</td>\n",
       "      <td>0.000000</td>\n",
       "    </tr>\n",
       "    <tr>\n",
       "      <th>18</th>\n",
       "      <td>9.816931</td>\n",
       "      <td>29.555556</td>\n",
       "      <td>50.551744</td>\n",
       "      <td>0.003573</td>\n",
       "      <td>0.015277</td>\n",
       "      <td>0.088889</td>\n",
       "      <td>2.000000</td>\n",
       "      <td>3.555556</td>\n",
       "      <td>0.000000</td>\n",
       "      <td>0.333333</td>\n",
       "      <td>0.000000</td>\n",
       "    </tr>\n",
       "    <tr>\n",
       "      <th>19</th>\n",
       "      <td>15.991468</td>\n",
       "      <td>130.892857</td>\n",
       "      <td>43.226256</td>\n",
       "      <td>0.007516</td>\n",
       "      <td>0.031235</td>\n",
       "      <td>0.200000</td>\n",
       "      <td>3.000000</td>\n",
       "      <td>2.142857</td>\n",
       "      <td>4.025632</td>\n",
       "      <td>0.357143</td>\n",
       "      <td>0.071429</td>\n",
       "    </tr>\n",
       "    <tr>\n",
       "      <th>20</th>\n",
       "      <td>21.940148</td>\n",
       "      <td>11.647624</td>\n",
       "      <td>42.386861</td>\n",
       "      <td>0.005470</td>\n",
       "      <td>0.026142</td>\n",
       "      <td>0.027624</td>\n",
       "      <td>5.447514</td>\n",
       "      <td>4.939227</td>\n",
       "      <td>14.260476</td>\n",
       "      <td>0.149171</td>\n",
       "      <td>0.265193</td>\n",
       "    </tr>\n",
       "  </tbody>\n",
       "</table>\n",
       "</div>"
      ],
      "text/plain": [
       "             Admin_Dur_View  Info_Dur_View  Prod_Dur_View  BounceRates  \\\n",
       "TrafficType                                                              \n",
       "1                 14.816317      10.869426      38.452305     0.005665   \n",
       "2                 13.326483      22.724776      39.026500     0.005956   \n",
       "3                 14.350545       9.429246      38.071128     0.006011   \n",
       "4                 14.015143      13.476790      36.644210     0.006930   \n",
       "5                 19.420835       9.977134      36.517059     0.005796   \n",
       "6                 14.189163      14.617152      38.072968     0.005582   \n",
       "7                 12.893972      16.983020      33.873375     0.005621   \n",
       "8                 11.308582      14.511467      39.188469     0.006358   \n",
       "9                 18.879613      16.735000      41.507991     0.006685   \n",
       "10                14.809547      12.906380      36.187019     0.005677   \n",
       "11                12.410693       9.345651      46.273553     0.006008   \n",
       "12                54.000000       0.000000      35.083333     0.000000   \n",
       "13                15.335552       8.924606      37.434039     0.006065   \n",
       "14                12.141346      25.629594      40.289603     0.013226   \n",
       "15                23.164146       3.827327      29.413736     0.007120   \n",
       "16                 0.000000       0.000000      17.403241     0.002062   \n",
       "17                 6.694444       0.000000      21.849593     0.003094   \n",
       "18                 9.816931      29.555556      50.551744     0.003573   \n",
       "19                15.991468     130.892857      43.226256     0.007516   \n",
       "20                21.940148      11.647624      42.386861     0.005470   \n",
       "\n",
       "             ExitRates  SpecialDay   Browser    Region  PageValues   Weekend  \\\n",
       "TrafficType                                                                    \n",
       "1             0.029449    0.042419  2.506263  3.195680    3.463016  0.209503   \n",
       "2             0.028833    0.036585  2.192595  3.136778    8.470558  0.254490   \n",
       "3             0.030127    0.093244  2.254771  2.956679    3.193037  0.176895   \n",
       "4             0.031544    0.124615  2.295192  3.157692    7.149750  0.275000   \n",
       "5             0.027875    0.044980  2.477912  2.831325    7.708445  0.244980   \n",
       "6             0.028992    0.129665  2.569378  3.356459    5.271926  0.217703   \n",
       "7             0.026810    0.052632  2.315789  2.605263   13.372544  0.315789   \n",
       "8             0.028213    0.000000  2.123810  3.095238   10.813665  0.298413   \n",
       "9             0.028554    0.000000  1.675000  2.675000    4.009486  0.950000   \n",
       "10            0.027992    0.000000  2.007317  3.021951    6.572327  0.229268   \n",
       "11            0.030494    0.068722  3.325991  3.202643    4.996743  0.392070   \n",
       "12            0.020000    0.000000  4.000000  3.000000    0.000000  0.000000   \n",
       "13            0.029498    0.138240  2.053391  3.118326    2.276732  0.147186   \n",
       "14            0.037513    0.092308  2.692308  3.923077    4.936097  0.538462   \n",
       "15            0.037109    0.075676  1.513514  3.000000    0.037454  0.432432   \n",
       "16            0.037522    0.000000  2.000000  3.333333    0.000000  0.000000   \n",
       "17            0.073413    1.000000  1.000000  1.000000    0.000000  1.000000   \n",
       "18            0.015277    0.088889  2.000000  3.555556    0.000000  0.333333   \n",
       "19            0.031235    0.200000  3.000000  2.142857    4.025632  0.357143   \n",
       "20            0.026142    0.027624  5.447514  4.939227   14.260476  0.149171   \n",
       "\n",
       "              Revenue  \n",
       "TrafficType            \n",
       "1            0.105832  \n",
       "2            0.217463  \n",
       "3            0.084580  \n",
       "4            0.157692  \n",
       "5            0.204819  \n",
       "6            0.119617  \n",
       "7            0.315789  \n",
       "8            0.285714  \n",
       "9            0.100000  \n",
       "10           0.202439  \n",
       "11           0.193833  \n",
       "12           0.000000  \n",
       "13           0.060606  \n",
       "14           0.153846  \n",
       "15           0.000000  \n",
       "16           0.333333  \n",
       "17           0.000000  \n",
       "18           0.000000  \n",
       "19           0.071429  \n",
       "20           0.265193  "
      ]
     },
     "execution_count": 41,
     "metadata": {},
     "output_type": "execute_result"
    }
   ],
   "source": [
    "df.groupby('TrafficType').mean()"
   ]
  },
  {
   "cell_type": "markdown",
   "id": "horizontal-testing",
   "metadata": {},
   "source": [
    "<h4> <span style='color:darkolivegreen'>Analysis: </span> </h4>   \n",
    "  \n",
    "<h4> <span style='color:darkolivegreen'>As it relates to Revenue, Traffictypes range of values indicates that certain traffic type are more likely to result in succesful revenue - indicating that Traffictypes is a determinant that should be considered.</span> </h4>"
   ]
  },
  {
   "cell_type": "code",
   "execution_count": 42,
   "id": "miniature-punishment",
   "metadata": {},
   "outputs": [
    {
     "data": {
      "text/html": [
       "<div>\n",
       "<style scoped>\n",
       "    .dataframe tbody tr th:only-of-type {\n",
       "        vertical-align: middle;\n",
       "    }\n",
       "\n",
       "    .dataframe tbody tr th {\n",
       "        vertical-align: top;\n",
       "    }\n",
       "\n",
       "    .dataframe thead th {\n",
       "        text-align: right;\n",
       "    }\n",
       "</style>\n",
       "<table border=\"1\" class=\"dataframe\">\n",
       "  <thead>\n",
       "    <tr style=\"text-align: right;\">\n",
       "      <th></th>\n",
       "      <th>Admin_Dur_View</th>\n",
       "      <th>Info_Dur_View</th>\n",
       "      <th>Prod_Dur_View</th>\n",
       "      <th>BounceRates</th>\n",
       "      <th>ExitRates</th>\n",
       "      <th>SpecialDay</th>\n",
       "      <th>Browser</th>\n",
       "      <th>Region</th>\n",
       "      <th>PageValues</th>\n",
       "      <th>TrafficType</th>\n",
       "      <th>Weekend</th>\n",
       "      <th>Revenue</th>\n",
       "    </tr>\n",
       "    <tr>\n",
       "      <th>VisitorType</th>\n",
       "      <th></th>\n",
       "      <th></th>\n",
       "      <th></th>\n",
       "      <th></th>\n",
       "      <th></th>\n",
       "      <th></th>\n",
       "      <th></th>\n",
       "      <th></th>\n",
       "      <th></th>\n",
       "      <th></th>\n",
       "      <th></th>\n",
       "      <th></th>\n",
       "    </tr>\n",
       "  </thead>\n",
       "  <tbody>\n",
       "    <tr>\n",
       "      <th>New_Visitor</th>\n",
       "      <td>14.055067</td>\n",
       "      <td>8.955598</td>\n",
       "      <td>39.208115</td>\n",
       "      <td>0.006068</td>\n",
       "      <td>0.029388</td>\n",
       "      <td>0.019874</td>\n",
       "      <td>2.275472</td>\n",
       "      <td>3.284906</td>\n",
       "      <td>11.044826</td>\n",
       "      <td>3.856604</td>\n",
       "      <td>0.281132</td>\n",
       "      <td>0.252201</td>\n",
       "    </tr>\n",
       "    <tr>\n",
       "      <th>Other</th>\n",
       "      <td>17.692667</td>\n",
       "      <td>4.006134</td>\n",
       "      <td>40.708347</td>\n",
       "      <td>0.003779</td>\n",
       "      <td>0.025831</td>\n",
       "      <td>0.000000</td>\n",
       "      <td>8.763889</td>\n",
       "      <td>6.791667</td>\n",
       "      <td>15.744101</td>\n",
       "      <td>13.513889</td>\n",
       "      <td>0.083333</td>\n",
       "      <td>0.194444</td>\n",
       "    </tr>\n",
       "    <tr>\n",
       "      <th>Returning_Visitor</th>\n",
       "      <td>14.319015</td>\n",
       "      <td>15.952980</td>\n",
       "      <td>38.277479</td>\n",
       "      <td>0.005994</td>\n",
       "      <td>0.029442</td>\n",
       "      <td>0.070889</td>\n",
       "      <td>2.314242</td>\n",
       "      <td>3.091212</td>\n",
       "      <td>5.041584</td>\n",
       "      <td>4.019394</td>\n",
       "      <td>0.224444</td>\n",
       "      <td>0.138687</td>\n",
       "    </tr>\n",
       "  </tbody>\n",
       "</table>\n",
       "</div>"
      ],
      "text/plain": [
       "                   Admin_Dur_View  Info_Dur_View  Prod_Dur_View  BounceRates  \\\n",
       "VisitorType                                                                    \n",
       "New_Visitor             14.055067       8.955598      39.208115     0.006068   \n",
       "Other                   17.692667       4.006134      40.708347     0.003779   \n",
       "Returning_Visitor       14.319015      15.952980      38.277479     0.005994   \n",
       "\n",
       "                   ExitRates  SpecialDay   Browser    Region  PageValues  \\\n",
       "VisitorType                                                                \n",
       "New_Visitor         0.029388    0.019874  2.275472  3.284906   11.044826   \n",
       "Other               0.025831    0.000000  8.763889  6.791667   15.744101   \n",
       "Returning_Visitor   0.029442    0.070889  2.314242  3.091212    5.041584   \n",
       "\n",
       "                   TrafficType   Weekend   Revenue  \n",
       "VisitorType                                         \n",
       "New_Visitor           3.856604  0.281132  0.252201  \n",
       "Other                13.513889  0.083333  0.194444  \n",
       "Returning_Visitor     4.019394  0.224444  0.138687  "
      ]
     },
     "execution_count": 42,
     "metadata": {},
     "output_type": "execute_result"
    }
   ],
   "source": [
    "df.groupby('VisitorType').mean()"
   ]
  },
  {
   "cell_type": "markdown",
   "id": "successful-academy",
   "metadata": {},
   "source": [
    "<h4> <span style='color:darkolivegreen'>Analysis: </span> </h4>   \n",
    "  \n",
    "<h4> <span style='color:darkolivegreen'>As it relates to Revenue, VisitorType range of values indicates that certain browsers are more likely to result in succesful revenue - indicating that VisitorType is a determinant that should be considered.</span> </h4>"
   ]
  },
  {
   "cell_type": "code",
   "execution_count": 43,
   "id": "rubber-astrology",
   "metadata": {},
   "outputs": [
    {
     "data": {
      "text/html": [
       "<div>\n",
       "<style scoped>\n",
       "    .dataframe tbody tr th:only-of-type {\n",
       "        vertical-align: middle;\n",
       "    }\n",
       "\n",
       "    .dataframe tbody tr th {\n",
       "        vertical-align: top;\n",
       "    }\n",
       "\n",
       "    .dataframe thead th {\n",
       "        text-align: right;\n",
       "    }\n",
       "</style>\n",
       "<table border=\"1\" class=\"dataframe\">\n",
       "  <thead>\n",
       "    <tr style=\"text-align: right;\">\n",
       "      <th></th>\n",
       "      <th>Admin_Dur_View</th>\n",
       "      <th>Info_Dur_View</th>\n",
       "      <th>Prod_Dur_View</th>\n",
       "      <th>BounceRates</th>\n",
       "      <th>ExitRates</th>\n",
       "      <th>SpecialDay</th>\n",
       "      <th>Browser</th>\n",
       "      <th>Region</th>\n",
       "      <th>PageValues</th>\n",
       "      <th>TrafficType</th>\n",
       "      <th>Revenue</th>\n",
       "    </tr>\n",
       "    <tr>\n",
       "      <th>Weekend</th>\n",
       "      <th></th>\n",
       "      <th></th>\n",
       "      <th></th>\n",
       "      <th></th>\n",
       "      <th></th>\n",
       "      <th></th>\n",
       "      <th></th>\n",
       "      <th></th>\n",
       "      <th></th>\n",
       "      <th></th>\n",
       "      <th></th>\n",
       "    </tr>\n",
       "  </thead>\n",
       "  <tbody>\n",
       "    <tr>\n",
       "      <th>0</th>\n",
       "      <td>14.264724</td>\n",
       "      <td>13.837685</td>\n",
       "      <td>38.237706</td>\n",
       "      <td>0.005960</td>\n",
       "      <td>0.029498</td>\n",
       "      <td>0.065331</td>\n",
       "      <td>2.388658</td>\n",
       "      <td>3.138292</td>\n",
       "      <td>5.794718</td>\n",
       "      <td>4.059750</td>\n",
       "      <td>0.148644</td>\n",
       "    </tr>\n",
       "    <tr>\n",
       "      <th>1</th>\n",
       "      <td>14.433297</td>\n",
       "      <td>18.499752</td>\n",
       "      <td>39.028206</td>\n",
       "      <td>0.006089</td>\n",
       "      <td>0.029128</td>\n",
       "      <td>0.057121</td>\n",
       "      <td>2.217570</td>\n",
       "      <td>3.149533</td>\n",
       "      <td>6.395840</td>\n",
       "      <td>4.044112</td>\n",
       "      <td>0.174579</td>\n",
       "    </tr>\n",
       "  </tbody>\n",
       "</table>\n",
       "</div>"
      ],
      "text/plain": [
       "         Admin_Dur_View  Info_Dur_View  Prod_Dur_View  BounceRates  ExitRates  \\\n",
       "Weekend                                                                         \n",
       "0             14.264724      13.837685      38.237706     0.005960   0.029498   \n",
       "1             14.433297      18.499752      39.028206     0.006089   0.029128   \n",
       "\n",
       "         SpecialDay   Browser    Region  PageValues  TrafficType   Revenue  \n",
       "Weekend                                                                     \n",
       "0          0.065331  2.388658  3.138292    5.794718     4.059750  0.148644  \n",
       "1          0.057121  2.217570  3.149533    6.395840     4.044112  0.174579  "
      ]
     },
     "execution_count": 43,
     "metadata": {},
     "output_type": "execute_result"
    }
   ],
   "source": [
    "df.groupby('Weekend').mean()"
   ]
  },
  {
   "cell_type": "markdown",
   "id": "former-cheese",
   "metadata": {},
   "source": [
    "<h4> <span style='color:darkolivegreen'>Analysis: </span> </h4>   \n",
    "  \n",
    "<h4> <span style='color:darkolivegreen'>While Weekend shows a relatively small difference in Revenue success rates, it could be an indicator and we will allow RFE to determine it's impact.</span> </h4>"
   ]
  },
  {
   "cell_type": "code",
   "execution_count": 44,
   "id": "extreme-narrative",
   "metadata": {},
   "outputs": [
    {
     "data": {
      "image/png": "[encoded data removed]",
      "text/plain": [
       "<Figure size 720x504 with 1 Axes>"
      ]
     },
     "metadata": {},
     "output_type": "display_data"
    }
   ],
   "source": [
    "# ============================== Month vs Revenue ==========================\n",
    "table1=pd.crosstab(df.Month,df.Revenue)\n",
    "table1.div(table1.sum(1).astype(float), axis=0).plot(kind='bar', figsize = (10,7))\n",
    "plt.title('Stacked Bar Chart of Month vs Revenue', fontsize = 16)\n",
    "plt.xlabel('Month', fontsize = 14)\n",
    "plt.ylabel('Proportion of Customers', fontsize = 14)\n",
    "plt.show()"
   ]
  },
  {
   "cell_type": "markdown",
   "id": "major-divide",
   "metadata": {},
   "source": [
    "<h4> <span style='color:darkolivegreen'>Month appears to be a good predictor of Revenue. </span> </h4>  "
   ]
  },
  {
   "cell_type": "code",
   "execution_count": 45,
   "id": "spiritual-instrumentation",
   "metadata": {},
   "outputs": [
    {
     "data": {
      "image/png": "[encoded data removed]",
      "text/plain": [
       "<Figure size 720x504 with 1 Axes>"
      ]
     },
     "metadata": {},
     "output_type": "display_data"
    }
   ],
   "source": [
    "# ============================== Browser vs Revenue ==========================\n",
    "table3=pd.crosstab(df.Browser,df.Revenue)\n",
    "table3.div(table3.sum(1).astype(float), axis=0).plot(kind='bar', figsize = (10,7))\n",
    "plt.title('Stacked Bar Chart of Browser vs Revenue', fontsize = 16)\n",
    "plt.xlabel('Browser', fontsize = 14)\n",
    "plt.ylabel('Proportion of Customers', fontsize = 14)\n",
    "plt.show()"
   ]
  },
  {
   "cell_type": "markdown",
   "id": "heavy-reproduction",
   "metadata": {},
   "source": [
    "<h4> <span style='color:darkolivegreen'>Browser appears to be a good predictor of Revenue. </span> </h4> "
   ]
  },
  {
   "cell_type": "code",
   "execution_count": 46,
   "id": "blocked-logistics",
   "metadata": {},
   "outputs": [
    {
     "data": {
      "image/png": "[encoded data removed]",
      "text/plain": [
       "<Figure size 720x504 with 1 Axes>"
      ]
     },
     "metadata": {},
     "output_type": "display_data"
    }
   ],
   "source": [
    "# ============================== TrafficType vs Revenue ==========================\n",
    "table4=pd.crosstab(df.TrafficType,df.Revenue)\n",
    "table4.div(table4.sum(1).astype(float), axis=0).plot(kind='bar', figsize = (10,7))\n",
    "plt.title('Stacked Bar Chart of TrafficType vs Revenue', fontsize = 16)\n",
    "plt.xlabel('TrafficType', fontsize = 14)\n",
    "plt.ylabel('Proportion of Customers', fontsize = 14)\n",
    "plt.show()"
   ]
  },
  {
   "cell_type": "markdown",
   "id": "ethical-ukraine",
   "metadata": {},
   "source": [
    "<h4> <span style='color:darkolivegreen'>TrafficType appears to be a good predictor of Revenue. </span> </h4> "
   ]
  },
  {
   "cell_type": "code",
   "execution_count": 47,
   "id": "lasting-shepherd",
   "metadata": {},
   "outputs": [
    {
     "data": {
      "image/png": "[encoded data removed]",
      "text/plain": [
       "<Figure size 720x504 with 1 Axes>"
      ]
     },
     "metadata": {},
     "output_type": "display_data"
    }
   ],
   "source": [
    "# ============================== VisitorType vs Revenue ==========================\n",
    "table5=pd.crosstab(df.VisitorType,df.Revenue)\n",
    "table5.div(table5.sum(1).astype(float), axis=0).plot(kind='bar', figsize = (10,7))\n",
    "plt.title('Stacked Bar Chart of Visitor Type vs Revenue', fontsize = 16)\n",
    "plt.xlabel('Visitor Type', fontsize = 14)\n",
    "plt.ylabel('Proportion of Customers', fontsize = 14)\n",
    "plt.show()"
   ]
  },
  {
   "cell_type": "markdown",
   "id": "cordless-vietnam",
   "metadata": {},
   "source": [
    "<h4> <span style='color:darkolivegreen'>VistorType appears to be a good predictor of Revenue. </span> </h4> "
   ]
  },
  {
   "cell_type": "code",
   "execution_count": 48,
   "id": "comparable-retention",
   "metadata": {},
   "outputs": [
    {
     "data": {
      "image/png": "[encoded data removed]",
      "text/plain": [
       "<Figure size 720x504 with 1 Axes>"
      ]
     },
     "metadata": {},
     "output_type": "display_data"
    }
   ],
   "source": [
    "# ============================== Special Day vs Revenue ==========================\n",
    "table5=pd.crosstab(df.SpecialDay,df.Revenue)\n",
    "table5.div(table5.sum(1).astype(float), axis=0).plot(kind='bar', figsize = (10,7))\n",
    "plt.title('Stacked Bar Chart of Special Day vs Revenue', fontsize = 16)\n",
    "plt.xlabel('Special Day', fontsize = 14)\n",
    "plt.ylabel('Proportion of Customers', fontsize = 14)\n",
    "plt.show()"
   ]
  },
  {
   "cell_type": "markdown",
   "id": "suitable-principle",
   "metadata": {},
   "source": [
    "<h4> <span style='color:darkolivegreen'>SpecialDay appears to be a good predictor of Revenue. </span> </h4> "
   ]
  },
  {
   "cell_type": "markdown",
   "id": "violent-plain",
   "metadata": {},
   "source": [
    "Ensure no multicollinearity within variables via correlation matrix"
   ]
  },
  {
   "cell_type": "code",
   "execution_count": 49,
   "id": "immune-dairy",
   "metadata": {},
   "outputs": [
    {
     "data": {
      "text/html": [
       "<div>\n",
       "<style scoped>\n",
       "    .dataframe tbody tr th:only-of-type {\n",
       "        vertical-align: middle;\n",
       "    }\n",
       "\n",
       "    .dataframe tbody tr th {\n",
       "        vertical-align: top;\n",
       "    }\n",
       "\n",
       "    .dataframe thead th {\n",
       "        text-align: right;\n",
       "    }\n",
       "</style>\n",
       "<table border=\"1\" class=\"dataframe\">\n",
       "  <thead>\n",
       "    <tr style=\"text-align: right;\">\n",
       "      <th></th>\n",
       "      <th>Admin_Dur_View</th>\n",
       "      <th>Info_Dur_View</th>\n",
       "      <th>Prod_Dur_View</th>\n",
       "      <th>BounceRates</th>\n",
       "      <th>ExitRates</th>\n",
       "      <th>SpecialDay</th>\n",
       "      <th>Browser</th>\n",
       "      <th>Region</th>\n",
       "      <th>PageValues</th>\n",
       "      <th>TrafficType</th>\n",
       "      <th>Weekend</th>\n",
       "      <th>Revenue</th>\n",
       "    </tr>\n",
       "  </thead>\n",
       "  <tbody>\n",
       "    <tr>\n",
       "      <th>Admin_Dur_View</th>\n",
       "      <td>1.000000</td>\n",
       "      <td>0.000677</td>\n",
       "      <td>0.029819</td>\n",
       "      <td>-0.021784</td>\n",
       "      <td>-0.175418</td>\n",
       "      <td>-0.031402</td>\n",
       "      <td>0.008712</td>\n",
       "      <td>0.013285</td>\n",
       "      <td>0.006093</td>\n",
       "      <td>0.023394</td>\n",
       "      <td>0.002468</td>\n",
       "      <td>0.006366</td>\n",
       "    </tr>\n",
       "    <tr>\n",
       "      <th>Info_Dur_View</th>\n",
       "      <td>0.000677</td>\n",
       "      <td>1.000000</td>\n",
       "      <td>-0.017673</td>\n",
       "      <td>0.006272</td>\n",
       "      <td>0.004148</td>\n",
       "      <td>-0.031034</td>\n",
       "      <td>-0.006824</td>\n",
       "      <td>-0.017644</td>\n",
       "      <td>0.027637</td>\n",
       "      <td>-0.018751</td>\n",
       "      <td>0.029635</td>\n",
       "      <td>0.053478</td>\n",
       "    </tr>\n",
       "    <tr>\n",
       "      <th>Prod_Dur_View</th>\n",
       "      <td>0.029819</td>\n",
       "      <td>-0.017673</td>\n",
       "      <td>1.000000</td>\n",
       "      <td>0.003928</td>\n",
       "      <td>0.012735</td>\n",
       "      <td>-0.000009</td>\n",
       "      <td>-0.009523</td>\n",
       "      <td>0.014259</td>\n",
       "      <td>0.001511</td>\n",
       "      <td>0.003103</td>\n",
       "      <td>0.007033</td>\n",
       "      <td>-0.007543</td>\n",
       "    </tr>\n",
       "    <tr>\n",
       "      <th>BounceRates</th>\n",
       "      <td>-0.021784</td>\n",
       "      <td>0.006272</td>\n",
       "      <td>0.003928</td>\n",
       "      <td>1.000000</td>\n",
       "      <td>0.334846</td>\n",
       "      <td>0.004994</td>\n",
       "      <td>-0.014064</td>\n",
       "      <td>0.004029</td>\n",
       "      <td>-0.004983</td>\n",
       "      <td>0.004860</td>\n",
       "      <td>0.005978</td>\n",
       "      <td>-0.004769</td>\n",
       "    </tr>\n",
       "    <tr>\n",
       "      <th>ExitRates</th>\n",
       "      <td>-0.175418</td>\n",
       "      <td>0.004148</td>\n",
       "      <td>0.012735</td>\n",
       "      <td>0.334846</td>\n",
       "      <td>1.000000</td>\n",
       "      <td>0.030821</td>\n",
       "      <td>0.010317</td>\n",
       "      <td>-0.004951</td>\n",
       "      <td>-0.006821</td>\n",
       "      <td>-0.007101</td>\n",
       "      <td>-0.007030</td>\n",
       "      <td>-0.004305</td>\n",
       "    </tr>\n",
       "    <tr>\n",
       "      <th>SpecialDay</th>\n",
       "      <td>-0.031402</td>\n",
       "      <td>-0.031034</td>\n",
       "      <td>-0.000009</td>\n",
       "      <td>0.004994</td>\n",
       "      <td>0.030821</td>\n",
       "      <td>1.000000</td>\n",
       "      <td>0.004807</td>\n",
       "      <td>-0.017220</td>\n",
       "      <td>-0.066766</td>\n",
       "      <td>0.054067</td>\n",
       "      <td>-0.017166</td>\n",
       "      <td>-0.086126</td>\n",
       "    </tr>\n",
       "    <tr>\n",
       "      <th>Browser</th>\n",
       "      <td>0.008712</td>\n",
       "      <td>-0.006824</td>\n",
       "      <td>-0.009523</td>\n",
       "      <td>-0.014064</td>\n",
       "      <td>0.010317</td>\n",
       "      <td>0.004807</td>\n",
       "      <td>1.000000</td>\n",
       "      <td>0.088493</td>\n",
       "      <td>0.034809</td>\n",
       "      <td>0.097437</td>\n",
       "      <td>-0.042590</td>\n",
       "      <td>0.019749</td>\n",
       "    </tr>\n",
       "    <tr>\n",
       "      <th>Region</th>\n",
       "      <td>0.013285</td>\n",
       "      <td>-0.017644</td>\n",
       "      <td>0.014259</td>\n",
       "      <td>0.004029</td>\n",
       "      <td>-0.004951</td>\n",
       "      <td>-0.017220</td>\n",
       "      <td>0.088493</td>\n",
       "      <td>1.000000</td>\n",
       "      <td>0.011670</td>\n",
       "      <td>0.041842</td>\n",
       "      <td>0.001980</td>\n",
       "      <td>-0.009384</td>\n",
       "    </tr>\n",
       "    <tr>\n",
       "      <th>PageValues</th>\n",
       "      <td>0.006093</td>\n",
       "      <td>0.027637</td>\n",
       "      <td>0.001511</td>\n",
       "      <td>-0.004983</td>\n",
       "      <td>-0.006821</td>\n",
       "      <td>-0.066766</td>\n",
       "      <td>0.034809</td>\n",
       "      <td>0.011670</td>\n",
       "      <td>1.000000</td>\n",
       "      <td>0.009238</td>\n",
       "      <td>0.013574</td>\n",
       "      <td>0.494687</td>\n",
       "    </tr>\n",
       "    <tr>\n",
       "      <th>TrafficType</th>\n",
       "      <td>0.023394</td>\n",
       "      <td>-0.018751</td>\n",
       "      <td>0.003103</td>\n",
       "      <td>0.004860</td>\n",
       "      <td>-0.007101</td>\n",
       "      <td>0.054067</td>\n",
       "      <td>0.097437</td>\n",
       "      <td>0.041842</td>\n",
       "      <td>0.009238</td>\n",
       "      <td>1.000000</td>\n",
       "      <td>-0.001648</td>\n",
       "      <td>-0.000440</td>\n",
       "    </tr>\n",
       "    <tr>\n",
       "      <th>Weekend</th>\n",
       "      <td>0.002468</td>\n",
       "      <td>0.029635</td>\n",
       "      <td>0.007033</td>\n",
       "      <td>0.005978</td>\n",
       "      <td>-0.007030</td>\n",
       "      <td>-0.017166</td>\n",
       "      <td>-0.042590</td>\n",
       "      <td>0.001980</td>\n",
       "      <td>0.013574</td>\n",
       "      <td>-0.001648</td>\n",
       "      <td>1.000000</td>\n",
       "      <td>0.030249</td>\n",
       "    </tr>\n",
       "    <tr>\n",
       "      <th>Revenue</th>\n",
       "      <td>0.006366</td>\n",
       "      <td>0.053478</td>\n",
       "      <td>-0.007543</td>\n",
       "      <td>-0.004769</td>\n",
       "      <td>-0.004305</td>\n",
       "      <td>-0.086126</td>\n",
       "      <td>0.019749</td>\n",
       "      <td>-0.009384</td>\n",
       "      <td>0.494687</td>\n",
       "      <td>-0.000440</td>\n",
       "      <td>0.030249</td>\n",
       "      <td>1.000000</td>\n",
       "    </tr>\n",
       "  </tbody>\n",
       "</table>\n",
       "</div>"
      ],
      "text/plain": [
       "                Admin_Dur_View  Info_Dur_View  Prod_Dur_View  BounceRates  \\\n",
       "Admin_Dur_View        1.000000       0.000677       0.029819    -0.021784   \n",
       "Info_Dur_View         0.000677       1.000000      -0.017673     0.006272   \n",
       "Prod_Dur_View         0.029819      -0.017673       1.000000     0.003928   \n",
       "BounceRates          -0.021784       0.006272       0.003928     1.000000   \n",
       "ExitRates            -0.175418       0.004148       0.012735     0.334846   \n",
       "SpecialDay           -0.031402      -0.031034      -0.000009     0.004994   \n",
       "Browser               0.008712      -0.006824      -0.009523    -0.014064   \n",
       "Region                0.013285      -0.017644       0.014259     0.004029   \n",
       "PageValues            0.006093       0.027637       0.001511    -0.004983   \n",
       "TrafficType           0.023394      -0.018751       0.003103     0.004860   \n",
       "Weekend               0.002468       0.029635       0.007033     0.005978   \n",
       "Revenue               0.006366       0.053478      -0.007543    -0.004769   \n",
       "\n",
       "                ExitRates  SpecialDay   Browser    Region  PageValues  \\\n",
       "Admin_Dur_View  -0.175418   -0.031402  0.008712  0.013285    0.006093   \n",
       "Info_Dur_View    0.004148   -0.031034 -0.006824 -0.017644    0.027637   \n",
       "Prod_Dur_View    0.012735   -0.000009 -0.009523  0.014259    0.001511   \n",
       "BounceRates      0.334846    0.004994 -0.014064  0.004029   -0.004983   \n",
       "ExitRates        1.000000    0.030821  0.010317 -0.004951   -0.006821   \n",
       "SpecialDay       0.030821    1.000000  0.004807 -0.017220   -0.066766   \n",
       "Browser          0.010317    0.004807  1.000000  0.088493    0.034809   \n",
       "Region          -0.004951   -0.017220  0.088493  1.000000    0.011670   \n",
       "PageValues      -0.006821   -0.066766  0.034809  0.011670    1.000000   \n",
       "TrafficType     -0.007101    0.054067  0.097437  0.041842    0.009238   \n",
       "Weekend         -0.007030   -0.017166 -0.042590  0.001980    0.013574   \n",
       "Revenue         -0.004305   -0.086126  0.019749 -0.009384    0.494687   \n",
       "\n",
       "                TrafficType   Weekend   Revenue  \n",
       "Admin_Dur_View     0.023394  0.002468  0.006366  \n",
       "Info_Dur_View     -0.018751  0.029635  0.053478  \n",
       "Prod_Dur_View      0.003103  0.007033 -0.007543  \n",
       "BounceRates        0.004860  0.005978 -0.004769  \n",
       "ExitRates         -0.007101 -0.007030 -0.004305  \n",
       "SpecialDay         0.054067 -0.017166 -0.086126  \n",
       "Browser            0.097437 -0.042590  0.019749  \n",
       "Region             0.041842  0.001980 -0.009384  \n",
       "PageValues         0.009238  0.013574  0.494687  \n",
       "TrafficType        1.000000 -0.001648 -0.000440  \n",
       "Weekend           -0.001648  1.000000  0.030249  \n",
       "Revenue           -0.000440  0.030249  1.000000  "
      ]
     },
     "execution_count": 49,
     "metadata": {},
     "output_type": "execute_result"
    }
   ],
   "source": [
    "df.corr()"
   ]
  },
  {
   "cell_type": "code",
   "execution_count": 50,
   "id": "established-three",
   "metadata": {},
   "outputs": [
    {
     "data": {
      "image/png": "[encoded data removed]",
      "text/plain": [
       "<Figure size 432x288 with 2 Axes>"
      ]
     },
     "metadata": {},
     "output_type": "display_data"
    }
   ],
   "source": [
    "# Look for linear relationships in Complete Dataset\n",
    "corr = df.corr(method='pearson')\n",
    "ax = sns.heatmap(\n",
    "    corr, \n",
    "    vmin=-1, vmax=1, center=0,\n",
    "    cmap=sns.diverging_palette(20, 220, n=200),\n",
    "    square=True\n",
    ")\n",
    "ax.set_xticklabels(\n",
    "    ax.get_xticklabels(),\n",
    "    rotation=45,\n",
    "    horizontalalignment='right'\n",
    ");"
   ]
  },
  {
   "cell_type": "code",
   "execution_count": 51,
   "id": "facial-amendment",
   "metadata": {},
   "outputs": [
    {
     "data": {
      "text/html": [
       "<div>\n",
       "<style scoped>\n",
       "    .dataframe tbody tr th:only-of-type {\n",
       "        vertical-align: middle;\n",
       "    }\n",
       "\n",
       "    .dataframe tbody tr th {\n",
       "        vertical-align: top;\n",
       "    }\n",
       "\n",
       "    .dataframe thead th {\n",
       "        text-align: right;\n",
       "    }\n",
       "</style>\n",
       "<table border=\"1\" class=\"dataframe\">\n",
       "  <thead>\n",
       "    <tr style=\"text-align: right;\">\n",
       "      <th>SpecialDay</th>\n",
       "      <th>0.0</th>\n",
       "      <th>0.2</th>\n",
       "      <th>0.4</th>\n",
       "      <th>0.6</th>\n",
       "      <th>0.8</th>\n",
       "      <th>1.0</th>\n",
       "    </tr>\n",
       "    <tr>\n",
       "      <th>Revenue</th>\n",
       "      <th></th>\n",
       "      <th></th>\n",
       "      <th></th>\n",
       "      <th></th>\n",
       "      <th></th>\n",
       "      <th></th>\n",
       "    </tr>\n",
       "  </thead>\n",
       "  <tbody>\n",
       "    <tr>\n",
       "      <th>0</th>\n",
       "      <td>8633</td>\n",
       "      <td>159</td>\n",
       "      <td>227</td>\n",
       "      <td>310</td>\n",
       "      <td>305</td>\n",
       "      <td>140</td>\n",
       "    </tr>\n",
       "    <tr>\n",
       "      <th>1</th>\n",
       "      <td>1716</td>\n",
       "      <td>13</td>\n",
       "      <td>13</td>\n",
       "      <td>27</td>\n",
       "      <td>11</td>\n",
       "      <td>8</td>\n",
       "    </tr>\n",
       "  </tbody>\n",
       "</table>\n",
       "</div>"
      ],
      "text/plain": [
       "SpecialDay   0.0  0.2  0.4  0.6  0.8  1.0\n",
       "Revenue                                  \n",
       "0           8633  159  227  310  305  140\n",
       "1           1716   13   13   27   11    8"
      ]
     },
     "execution_count": 51,
     "metadata": {},
     "output_type": "execute_result"
    }
   ],
   "source": [
    "#Determine if Special Day values are dependent on Revenue (if Special Day =0, for all Revenue=0, then drop the variable)\n",
    "countSpecialDay = pd.crosstab(df['Revenue'],df['SpecialDay'])\n",
    "countSpecialDay\n"
   ]
  },
  {
   "cell_type": "markdown",
   "id": "unique-cycling",
   "metadata": {},
   "source": [
    "**Remove redundant or dependent variables**"
   ]
  },
  {
   "cell_type": "markdown",
   "id": "hollow-beatles",
   "metadata": {},
   "source": [
    "<h4> <span style='color:darkolivegreen'>From the correlation matrix we can see that \"BounceRates\" and \"ExitRates\" are moderately linear to each. Removed Bounce Rate because it is a function of Exit Rate and Exit Rate matches page views.</span> </h4> \n",
    "<h4> <span style='color:darkolivegreen'>From the correlation matrix we can see that PageValue is moderately correlated with Revenue, which means that it is not an independent variable. Removed PageValue since it is not independent.</span> </h4> \n",
    "  \n",
    "<h4> <span style='color:darkolivegreen'>After analyzing our variables, we can now procceed to the next step for our model building.</span> </h4> "
   ]
  },
  {
   "cell_type": "code",
   "execution_count": 52,
   "id": "nominated-sullivan",
   "metadata": {},
   "outputs": [],
   "source": [
    "# Drop BounceRates & PageValues\n",
    "df = df.drop(['BounceRates', 'PageValues'], axis = 1)"
   ]
  },
  {
   "cell_type": "markdown",
   "id": "potential-television",
   "metadata": {},
   "source": [
    "# Data Analytics: Multi-Variable Logistic Regression (Supervised Learning)"
   ]
  },
  {
   "cell_type": "markdown",
   "id": "adult-recommendation",
   "metadata": {},
   "source": [
    "<h4> <span style='color:darkolivegreen'>Algorithm Selection Logic:</span> </h4>  \n",
    "\n",
    "<h4> <span style='color:darkolivegreen'>Since our goal is to predict the likelihood of Revenue, which is a boolean (binary) categorical variable, we determined the need for Supervised Learning and selected the Logistic Regression algorithm since it allows us to model a nonlinear association in a linear way with a boolean/binary target variable.</span> </h4>"
   ]
  },
  {
   "cell_type": "markdown",
   "id": "entitled-optimum",
   "metadata": {},
   "source": [
    "**Create Dummy variables for the categorical variables using One-Hot key method selected as good predictors**"
   ]
  },
  {
   "cell_type": "code",
   "execution_count": 53,
   "id": "comic-hebrew",
   "metadata": {},
   "outputs": [],
   "source": [
    "#Define categorical variables to be encoded using dummy variables\n",
    "cat_vars=['Month','Browser','TrafficType','VisitorType','Region','SpecialDay']\n",
    "for var in cat_vars:\n",
    "    cat_list='var'+'_'+var\n",
    "    cat_list=pd.get_dummies(df[var], prefix=var)\n",
    "    df1=df.join(cat_list)\n",
    "    df=df1"
   ]
  },
  {
   "cell_type": "code",
   "execution_count": 54,
   "id": "automotive-greensboro",
   "metadata": {},
   "outputs": [],
   "source": [
    "cat_vars=['Month','Browser','TrafficType','VisitorType','Region','SpecialDay']\n",
    "df_vars=df.columns.values.tolist()\n",
    "to_keep=[i for i in df_vars if i not in cat_vars]"
   ]
  },
  {
   "cell_type": "code",
   "execution_count": 55,
   "id": "fossil-myanmar",
   "metadata": {},
   "outputs": [
    {
     "data": {
      "text/plain": [
       "array(['Admin_Dur_View', 'Info_Dur_View', 'Prod_Dur_View', 'ExitRates',\n",
       "       'Weekend', 'Revenue', 'Month_Aug', 'Month_Dec', 'Month_Feb',\n",
       "       'Month_Jul', 'Month_June', 'Month_Mar', 'Month_May', 'Month_Nov',\n",
       "       'Month_Oct', 'Month_Sep', 'Browser_1', 'Browser_2', 'Browser_3',\n",
       "       'Browser_4', 'Browser_5', 'Browser_6', 'Browser_7', 'Browser_8',\n",
       "       'Browser_9', 'Browser_10', 'Browser_11', 'Browser_12',\n",
       "       'Browser_13', 'TrafficType_1', 'TrafficType_2', 'TrafficType_3',\n",
       "       'TrafficType_4', 'TrafficType_5', 'TrafficType_6', 'TrafficType_7',\n",
       "       'TrafficType_8', 'TrafficType_9', 'TrafficType_10',\n",
       "       'TrafficType_11', 'TrafficType_12', 'TrafficType_13',\n",
       "       'TrafficType_14', 'TrafficType_15', 'TrafficType_16',\n",
       "       'TrafficType_17', 'TrafficType_18', 'TrafficType_19',\n",
       "       'TrafficType_20', 'VisitorType_New_Visitor', 'VisitorType_Other',\n",
       "       'VisitorType_Returning_Visitor', 'Region_1', 'Region_2',\n",
       "       'Region_3', 'Region_4', 'Region_5', 'Region_6', 'Region_7',\n",
       "       'Region_8', 'Region_9', 'SpecialDay_0.0', 'SpecialDay_0.2',\n",
       "       'SpecialDay_0.4', 'SpecialDay_0.6', 'SpecialDay_0.8',\n",
       "       'SpecialDay_1.0'], dtype=object)"
      ]
     },
     "execution_count": 55,
     "metadata": {},
     "output_type": "execute_result"
    }
   ],
   "source": [
    "#Create the updated dataframe with dummy encoded categorical variables\n",
    "df=df[to_keep]\n",
    "#Display the updated dataframe columns\n",
    "df.columns.values\n"
   ]
  },
  {
   "cell_type": "markdown",
   "id": "partial-roberts",
   "metadata": {},
   "source": [
    "**Define X and y features and create train and test sets**"
   ]
  },
  {
   "cell_type": "code",
   "execution_count": 56,
   "id": "center-mumbai",
   "metadata": {},
   "outputs": [],
   "source": [
    "# Define X and y features\n",
    "X = df.loc[:, df.columns != 'Revenue']\n",
    "y = df.loc[:, df.columns == 'Revenue']\n",
    "\n",
    "# breakdown train and test sets\n",
    "X_train, X_test, y_train, y_test = train_test_split(X, y, test_size=0.2, random_state=500)\n",
    "columns = X_train.columns"
   ]
  },
  {
   "cell_type": "markdown",
   "id": "threatened-worcester",
   "metadata": {},
   "source": [
    "<h4> <span style='color:darkolivegreen'>Train and Test Ratio logic:</span> </h4> \n",
    "  \n",
    "<h4> <span style='color:darkolivegreen'> We then created Train and Test sets using Sklearn’s train_test_split function and set our test size to 20% since we had 11,948 observations.</span> </h4>\n"
   ]
  },
  {
   "cell_type": "markdown",
   "id": "intelligent-arthur",
   "metadata": {},
   "source": [
    "**Scale the predictor variables for smoother machine learning***"
   ]
  },
  {
   "cell_type": "code",
   "execution_count": 57,
   "id": "practical-boutique",
   "metadata": {},
   "outputs": [],
   "source": [
    "# Scaling helps the Logistic Regression better handle our mix of continuous and categorical variables with wide ranges\n",
    "from sklearn.preprocessing import StandardScaler\n",
    "scaler = StandardScaler()\n",
    "\n",
    "X_train2 = pd.DataFrame(scaler.fit_transform(X_train))\n",
    "X_test2 = pd.DataFrame(scaler.transform(X_test))\n",
    "X_train2.columns = X_train.columns.values\n",
    "X_test2.columns = X_test.columns.values\n",
    "X_train2.index = X_train.index.values\n",
    "X_test2.index = X_test.index.values\n",
    "X_train = X_train2\n",
    "X_test = X_test2\n"
   ]
  },
  {
   "cell_type": "markdown",
   "id": "vietnamese-programmer",
   "metadata": {},
   "source": [
    "<h4> <span style='color:darkolivegreen'>Scaling Explanation:</span> </h4> \n",
    "\n",
    "<h4> <span style='color:darkolivegreen'> Used the StandardScaler function to center (with_mean) and scale (with_std) all features to ensure magnitude of the features did not result in model bias.</span> </h4>\n"
   ]
  },
  {
   "cell_type": "markdown",
   "id": "nominated-casting",
   "metadata": {},
   "source": [
    "**Deploy SMOTE to balance our unbalanced Dataset**"
   ]
  },
  {
   "cell_type": "code",
   "execution_count": 58,
   "id": "experimental-scale",
   "metadata": {},
   "outputs": [
    {
     "name": "stdout",
     "output_type": "stream",
     "text": [
      "length of oversampled data is  15684\n",
      "Number of False Revenue in oversampled data 7842\n",
      "Number of True Revenue 7842\n",
      "Proportion of Fale Revenue data in oversampled data is  0.5\n",
      "Proportion of True Revenue data in oversampled data is  0.5\n"
     ]
    }
   ],
   "source": [
    "# Deploy SMOTE (Syntheic Minority Oversampling Technique) to synthetically oversample the minority class (Revenue = True).\n",
    "os = SMOTE(random_state=500)\n",
    "os_df_X,os_df_y=os.fit_resample(X_train, y_train)\n",
    "os_df_X = pd.DataFrame(data=os_df_X,columns=columns )\n",
    "os_df_y= pd.DataFrame(data=os_df_y,columns=['Revenue'])\n",
    "\n",
    "# Let's ensure SMOTE corrected the disproportionately low number of succesful Revenue observations/sessions\n",
    "print(\"length of oversampled data is \",len(os_df_X))\n",
    "print(\"Number of False Revenue in oversampled data\",len(os_df_y[os_df_y['Revenue']==0]))\n",
    "print(\"Number of True Revenue\",len(os_df_y[os_df_y['Revenue']==1]))\n",
    "print(\"Proportion of Fale Revenue data in oversampled data is \",len(os_df_y[os_df_y['Revenue']==0])/len(os_df_X))\n",
    "print(\"Proportion of True Revenue data in oversampled data is \",len(os_df_y[os_df_y['Revenue']==1])/len(os_df_X))"
   ]
  },
  {
   "cell_type": "markdown",
   "id": "creative-volunteer",
   "metadata": {},
   "source": [
    "<h4> <span style='color:darkolivegreen'> SMOTE Logic and Explanation:</span> </h4> \n",
    "\n",
    "<h4> <span style='color:darkolivegreen'><h4>Based on the disproportionately low number of succesful revenue observations and since there may not be sufficient patterns belonging to the minority class to adequately represent its distribution, we used the Synthetic Minority Oversampling Technique (SMOTE) algorithm, which aims to balance class distribution by randomly increasing minority class examples through replication.</span> </h4>"
   ]
  },
  {
   "cell_type": "markdown",
   "id": "convinced-marshall",
   "metadata": {},
   "source": [
    "**Eliminate less impactful variables by Recursive Feature Elimination**"
   ]
  },
  {
   "cell_type": "code",
   "execution_count": 59,
   "id": "solar-ordinance",
   "metadata": {},
   "outputs": [],
   "source": [
    "# LogisticRegression() parameters set to match Logit() parameters for easy rationalization of feature p-values\n",
    "# max_iter increased to reduce errors, ovr = binary classification, penalty=none since RFE was used, \n",
    "# solver newton-cg to match logit() fit_intercept to force convergence at y-axis, \n",
    "logreg = LogisticRegression(max_iter=2000, multi_class='ovr', penalty='none', solver='newton-cg', fit_intercept=True, random_state=500)\n",
    "\n",
    "# RFE to reduce features to avoid overfitting\n",
    "rfe = RFE(estimator=logreg)\n",
    "rfe = rfe.fit(os_df_X, os_df_y.values.ravel())"
   ]
  },
  {
   "cell_type": "code",
   "execution_count": 60,
   "id": "peripheral-throw",
   "metadata": {},
   "outputs": [],
   "source": [
    "# Define rfeDf to pull features after RFE execution\n",
    "\n",
    "rfesupport = rfe.support_\n",
    "rfeRanking = rfe.ranking_\n",
    "names = os_df_X.columns.values\n",
    "rfeDf = pd.DataFrame()\n",
    "rfeDf['rferanking'] = rfeRanking\n",
    "rfeDf['names'] = names\n",
    "rfeDf['rfesupport'] = rfesupport\n",
    "rfeDf.sort_values([\"rferanking\"], axis=0,\n",
    "                 ascending=True, inplace=True)\n",
    "rfeDf = rfeDf.loc[rfeDf['rfesupport'] == True]\n"
   ]
  },
  {
   "cell_type": "markdown",
   "id": "outside-locking",
   "metadata": {},
   "source": [
    "<h4> <span style='color:darkolivegreen'>RFE Logic and Approach:</span> </h4> \n",
    "\n",
    "<h4> <span style='color:darkolivegreen'>We deployed Recursive Feature Elimination (since we had 67 predictors going into the model) using the LogReg estimator.</span> </h4> "
   ]
  },
  {
   "cell_type": "markdown",
   "id": "adapted-wrist",
   "metadata": {},
   "source": [
    "**1st Model Implementation**"
   ]
  },
  {
   "cell_type": "code",
   "execution_count": 61,
   "id": "minus-constant",
   "metadata": {},
   "outputs": [],
   "source": [
    "# Redefine X with RFE selected features\n",
    "cols= rfeDf['names']\n",
    "X=sm.add_constant(os_df_X[cols])\n",
    "y=os_df_y['Revenue']"
   ]
  },
  {
   "cell_type": "code",
   "execution_count": 62,
   "id": "prerequisite-service",
   "metadata": {},
   "outputs": [
    {
     "name": "stdout",
     "output_type": "stream",
     "text": [
      "Warning: Maximum number of iterations has been exceeded.\n",
      "         Current function value: inf\n",
      "         Iterations: 35\n"
     ]
    }
   ],
   "source": [
    "# Using Statsmodels.api Logit() for easy p-value rationalization\n",
    "import statsmodels.api as sm\n",
    "logit_model=sm.Logit(y,X)\n",
    "result=logit_model.fit()\n",
    "\n",
    "# Move result to dataframe for later rationalization\n",
    "result = result.summary().tables[1].as_html()\n",
    "result = pd.read_html(result, header=0)[0]\n",
    "\n",
    "result = result.rename(columns={'Unnamed: 0': 'Names'})"
   ]
  },
  {
   "cell_type": "code",
   "execution_count": 63,
   "id": "alien-wright",
   "metadata": {},
   "outputs": [],
   "source": [
    "# Only select features with p-values < 0.05 and any nans\n",
    "result = result.dropna()\n",
    "result = result.loc[(result['P>|z|'] <= 0.05)]\n",
    "result\n",
    "\n",
    "# Store selected features\n",
    "cols= result['Names']\n",
    "\n",
    "# Redefine X with selected features\n",
    "X=sm.add_constant(os_df_X[cols])\n",
    "y=os_df_y['Revenue']\n"
   ]
  },
  {
   "cell_type": "markdown",
   "id": "formed-median",
   "metadata": {},
   "source": [
    "<h4> <span style='color:darkolivegreen'>Implementation Explanation:</span> </h4> \n",
    "\n",
    "<h4> <span style='color:darkolivegreen'>We kept only statistically significant features with p-values greater than .05 which left us with 22 features that were used for our 1st model iteration and fit using the Logistic Regression algorithm. </span> </h4>"
   ]
  },
  {
   "cell_type": "markdown",
   "id": "valued-voice",
   "metadata": {},
   "source": [
    "**Logistic Regression Model Fitting**"
   ]
  },
  {
   "cell_type": "code",
   "execution_count": 64,
   "id": "norwegian-fishing",
   "metadata": {},
   "outputs": [
    {
     "data": {
      "text/plain": [
       "LogisticRegression(max_iter=2000, multi_class='ovr', penalty='none',\n",
       "                   random_state=500, solver='newton-cg')"
      ]
     },
     "execution_count": 64,
     "metadata": {},
     "output_type": "execute_result"
    }
   ],
   "source": [
    "# Resplit train and test sets with only features selected\n",
    "X_train, X_test, y_train, y_test = train_test_split(X, y, test_size=0.2, random_state=500)\n",
    "\n",
    "# Fit LogisticRegression with selected features\n",
    "#logreg = LogisticRegression(max_iter=2000, multi_class='ovr', penalty='none', solver='newton-cg', fit_intercept=True, random_state=500)\n",
    "logreg.fit(X_train, y_train)"
   ]
  },
  {
   "cell_type": "code",
   "execution_count": 65,
   "id": "adjacent-order",
   "metadata": {},
   "outputs": [
    {
     "data": {
      "text/html": [
       "<div>\n",
       "<style scoped>\n",
       "    .dataframe tbody tr th:only-of-type {\n",
       "        vertical-align: middle;\n",
       "    }\n",
       "\n",
       "    .dataframe tbody tr th {\n",
       "        vertical-align: top;\n",
       "    }\n",
       "\n",
       "    .dataframe thead th {\n",
       "        text-align: right;\n",
       "    }\n",
       "</style>\n",
       "<table border=\"1\" class=\"dataframe\">\n",
       "  <thead>\n",
       "    <tr style=\"text-align: right;\">\n",
       "      <th></th>\n",
       "      <th>features</th>\n",
       "      <th>coef</th>\n",
       "    </tr>\n",
       "  </thead>\n",
       "  <tbody>\n",
       "    <tr>\n",
       "      <th>0</th>\n",
       "      <td>const</td>\n",
       "      <td>-0.100619</td>\n",
       "    </tr>\n",
       "    <tr>\n",
       "      <th>1</th>\n",
       "      <td>SpecialDay_1.0</td>\n",
       "      <td>-0.072164</td>\n",
       "    </tr>\n",
       "    <tr>\n",
       "      <th>2</th>\n",
       "      <td>Browser_5</td>\n",
       "      <td>0.071130</td>\n",
       "    </tr>\n",
       "    <tr>\n",
       "      <th>3</th>\n",
       "      <td>Browser_13</td>\n",
       "      <td>0.073066</td>\n",
       "    </tr>\n",
       "    <tr>\n",
       "      <th>4</th>\n",
       "      <td>TrafficType_2</td>\n",
       "      <td>0.063836</td>\n",
       "    </tr>\n",
       "    <tr>\n",
       "      <th>5</th>\n",
       "      <td>TrafficType_3</td>\n",
       "      <td>-0.356256</td>\n",
       "    </tr>\n",
       "    <tr>\n",
       "      <th>6</th>\n",
       "      <td>TrafficType_13</td>\n",
       "      <td>-0.326239</td>\n",
       "    </tr>\n",
       "    <tr>\n",
       "      <th>7</th>\n",
       "      <td>SpecialDay_0.8</td>\n",
       "      <td>-0.162267</td>\n",
       "    </tr>\n",
       "    <tr>\n",
       "      <th>8</th>\n",
       "      <td>TrafficType_6</td>\n",
       "      <td>-0.096448</td>\n",
       "    </tr>\n",
       "    <tr>\n",
       "      <th>9</th>\n",
       "      <td>TrafficType_1</td>\n",
       "      <td>-0.298785</td>\n",
       "    </tr>\n",
       "    <tr>\n",
       "      <th>10</th>\n",
       "      <td>Browser_3</td>\n",
       "      <td>-0.111559</td>\n",
       "    </tr>\n",
       "    <tr>\n",
       "      <th>11</th>\n",
       "      <td>Region_9</td>\n",
       "      <td>-0.053990</td>\n",
       "    </tr>\n",
       "    <tr>\n",
       "      <th>12</th>\n",
       "      <td>ExitRates</td>\n",
       "      <td>-0.066419</td>\n",
       "    </tr>\n",
       "    <tr>\n",
       "      <th>13</th>\n",
       "      <td>SpecialDay_0.0</td>\n",
       "      <td>0.144198</td>\n",
       "    </tr>\n",
       "    <tr>\n",
       "      <th>14</th>\n",
       "      <td>Month_Dec</td>\n",
       "      <td>-0.095841</td>\n",
       "    </tr>\n",
       "    <tr>\n",
       "      <th>15</th>\n",
       "      <td>Month_Feb</td>\n",
       "      <td>-0.277841</td>\n",
       "    </tr>\n",
       "    <tr>\n",
       "      <th>16</th>\n",
       "      <td>Browser_2</td>\n",
       "      <td>0.049881</td>\n",
       "    </tr>\n",
       "    <tr>\n",
       "      <th>17</th>\n",
       "      <td>Prod_Dur_View</td>\n",
       "      <td>-0.073740</td>\n",
       "    </tr>\n",
       "    <tr>\n",
       "      <th>18</th>\n",
       "      <td>Month_June</td>\n",
       "      <td>-0.071636</td>\n",
       "    </tr>\n",
       "    <tr>\n",
       "      <th>19</th>\n",
       "      <td>Month_Nov</td>\n",
       "      <td>0.372507</td>\n",
       "    </tr>\n",
       "    <tr>\n",
       "      <th>20</th>\n",
       "      <td>Region_1</td>\n",
       "      <td>0.068503</td>\n",
       "    </tr>\n",
       "    <tr>\n",
       "      <th>21</th>\n",
       "      <td>Info_Dur_View</td>\n",
       "      <td>0.082104</td>\n",
       "    </tr>\n",
       "  </tbody>\n",
       "</table>\n",
       "</div>"
      ],
      "text/plain": [
       "          features      coef\n",
       "0            const -0.100619\n",
       "1   SpecialDay_1.0 -0.072164\n",
       "2        Browser_5  0.071130\n",
       "3       Browser_13  0.073066\n",
       "4    TrafficType_2  0.063836\n",
       "5    TrafficType_3 -0.356256\n",
       "6   TrafficType_13 -0.326239\n",
       "7   SpecialDay_0.8 -0.162267\n",
       "8    TrafficType_6 -0.096448\n",
       "9    TrafficType_1 -0.298785\n",
       "10       Browser_3 -0.111559\n",
       "11        Region_9 -0.053990\n",
       "12       ExitRates -0.066419\n",
       "13  SpecialDay_0.0  0.144198\n",
       "14       Month_Dec -0.095841\n",
       "15       Month_Feb -0.277841\n",
       "16       Browser_2  0.049881\n",
       "17   Prod_Dur_View -0.073740\n",
       "18      Month_June -0.071636\n",
       "19       Month_Nov  0.372507\n",
       "20        Region_1  0.068503\n",
       "21   Info_Dur_View  0.082104"
      ]
     },
     "execution_count": 65,
     "metadata": {},
     "output_type": "execute_result"
    }
   ],
   "source": [
    "# Print features and coefficient in clean format\n",
    "pd.DataFrame(zip(X_train.columns, np.transpose(logreg.coef_.tolist()[0])), columns=['features', 'coef'])"
   ]
  },
  {
   "cell_type": "markdown",
   "id": "complex-romantic",
   "metadata": {},
   "source": [
    "\n",
    "\n",
    "<h4> <span style='color:darkolivegreen'>Coefficient Evaluation:</span> </h4>\n",
    "  \n",
    "<h4> <span style='color:darkolivegreen'>The constant (slope of the Logistic Regression) is -0.100619 - indicating that the overall likelihood of a sale is leans more towards Revenue = False. </span> </h4>\n",
    "  \n",
    "<h4> <span style='color:darkolivegreen'>Features that positively impact the likelihood of a sale (push the outcome towards Revenue = True) in descending order are: Month_Nov, SpecialDay_0.0, Info_Dur_View, Browser_13, Browser_5, Region_1, TrafficType_2, and Browser_2.</span> </h4>\n",
    "  \n",
    "<h4> <span style='color:darkolivegreen'>Features that negatively impact the likelihood of a sale (push the outcome towards Revenue = False) in descending order are: Region_9, ExitRates, Month_June, SpecialDay_1.0, Prod_Dur_View, Month_Dec, TrafficType_6, Browser_3, SpecialDay_0.8, Month_Feb, TrafficType_1, TrafficType_13, and TrafficType_3.</span> </h4>"
   ]
  },
  {
   "cell_type": "markdown",
   "id": "charged-captain",
   "metadata": {},
   "source": [
    "**Evaluate Variance Inflation Factor (VIF) to address multicollinearity concerns**"
   ]
  },
  {
   "cell_type": "code",
   "execution_count": 66,
   "id": "leading-budget",
   "metadata": {},
   "outputs": [],
   "source": [
    "def calc_vif(X):\n",
    "\n",
    "    # Calculating VIF\n",
    "    vif = pd.DataFrame()\n",
    "    vif[\"variables\"] = X.columns\n",
    "    vif[\"VIF\"] = [variance_inflation_factor(X.values, i) for i in range(X.shape[1])]\n",
    "\n",
    "    return(vif)"
   ]
  },
  {
   "cell_type": "code",
   "execution_count": 67,
   "id": "eligible-scholarship",
   "metadata": {},
   "outputs": [
    {
     "data": {
      "text/html": [
       "<div>\n",
       "<style scoped>\n",
       "    .dataframe tbody tr th:only-of-type {\n",
       "        vertical-align: middle;\n",
       "    }\n",
       "\n",
       "    .dataframe tbody tr th {\n",
       "        vertical-align: top;\n",
       "    }\n",
       "\n",
       "    .dataframe thead th {\n",
       "        text-align: right;\n",
       "    }\n",
       "</style>\n",
       "<table border=\"1\" class=\"dataframe\">\n",
       "  <thead>\n",
       "    <tr style=\"text-align: right;\">\n",
       "      <th></th>\n",
       "      <th>variables</th>\n",
       "      <th>VIF</th>\n",
       "    </tr>\n",
       "  </thead>\n",
       "  <tbody>\n",
       "    <tr>\n",
       "      <th>0</th>\n",
       "      <td>const</td>\n",
       "      <td>1.064283</td>\n",
       "    </tr>\n",
       "    <tr>\n",
       "      <th>1</th>\n",
       "      <td>SpecialDay_1.0</td>\n",
       "      <td>1.183025</td>\n",
       "    </tr>\n",
       "    <tr>\n",
       "      <th>2</th>\n",
       "      <td>Browser_5</td>\n",
       "      <td>1.098066</td>\n",
       "    </tr>\n",
       "    <tr>\n",
       "      <th>3</th>\n",
       "      <td>Browser_13</td>\n",
       "      <td>1.226478</td>\n",
       "    </tr>\n",
       "    <tr>\n",
       "      <th>4</th>\n",
       "      <td>TrafficType_2</td>\n",
       "      <td>1.643059</td>\n",
       "    </tr>\n",
       "    <tr>\n",
       "      <th>5</th>\n",
       "      <td>TrafficType_3</td>\n",
       "      <td>1.372623</td>\n",
       "    </tr>\n",
       "    <tr>\n",
       "      <th>6</th>\n",
       "      <td>TrafficType_13</td>\n",
       "      <td>1.176496</td>\n",
       "    </tr>\n",
       "    <tr>\n",
       "      <th>7</th>\n",
       "      <td>SpecialDay_0.8</td>\n",
       "      <td>1.342604</td>\n",
       "    </tr>\n",
       "    <tr>\n",
       "      <th>8</th>\n",
       "      <td>TrafficType_6</td>\n",
       "      <td>1.107478</td>\n",
       "    </tr>\n",
       "    <tr>\n",
       "      <th>9</th>\n",
       "      <td>TrafficType_1</td>\n",
       "      <td>1.439835</td>\n",
       "    </tr>\n",
       "    <tr>\n",
       "      <th>10</th>\n",
       "      <td>Browser_3</td>\n",
       "      <td>1.016852</td>\n",
       "    </tr>\n",
       "    <tr>\n",
       "      <th>11</th>\n",
       "      <td>Region_9</td>\n",
       "      <td>1.193441</td>\n",
       "    </tr>\n",
       "    <tr>\n",
       "      <th>12</th>\n",
       "      <td>ExitRates</td>\n",
       "      <td>1.006652</td>\n",
       "    </tr>\n",
       "    <tr>\n",
       "      <th>13</th>\n",
       "      <td>SpecialDay_0.0</td>\n",
       "      <td>1.633906</td>\n",
       "    </tr>\n",
       "    <tr>\n",
       "      <th>14</th>\n",
       "      <td>Month_Dec</td>\n",
       "      <td>1.163066</td>\n",
       "    </tr>\n",
       "    <tr>\n",
       "      <th>15</th>\n",
       "      <td>Month_Feb</td>\n",
       "      <td>1.033678</td>\n",
       "    </tr>\n",
       "    <tr>\n",
       "      <th>16</th>\n",
       "      <td>Browser_2</td>\n",
       "      <td>1.161189</td>\n",
       "    </tr>\n",
       "    <tr>\n",
       "      <th>17</th>\n",
       "      <td>Prod_Dur_View</td>\n",
       "      <td>1.005160</td>\n",
       "    </tr>\n",
       "    <tr>\n",
       "      <th>18</th>\n",
       "      <td>Month_June</td>\n",
       "      <td>1.025273</td>\n",
       "    </tr>\n",
       "    <tr>\n",
       "      <th>19</th>\n",
       "      <td>Month_Nov</td>\n",
       "      <td>1.173743</td>\n",
       "    </tr>\n",
       "    <tr>\n",
       "      <th>20</th>\n",
       "      <td>Region_1</td>\n",
       "      <td>1.042915</td>\n",
       "    </tr>\n",
       "    <tr>\n",
       "      <th>21</th>\n",
       "      <td>Info_Dur_View</td>\n",
       "      <td>1.010983</td>\n",
       "    </tr>\n",
       "  </tbody>\n",
       "</table>\n",
       "</div>"
      ],
      "text/plain": [
       "         variables       VIF\n",
       "0            const  1.064283\n",
       "1   SpecialDay_1.0  1.183025\n",
       "2        Browser_5  1.098066\n",
       "3       Browser_13  1.226478\n",
       "4    TrafficType_2  1.643059\n",
       "5    TrafficType_3  1.372623\n",
       "6   TrafficType_13  1.176496\n",
       "7   SpecialDay_0.8  1.342604\n",
       "8    TrafficType_6  1.107478\n",
       "9    TrafficType_1  1.439835\n",
       "10       Browser_3  1.016852\n",
       "11        Region_9  1.193441\n",
       "12       ExitRates  1.006652\n",
       "13  SpecialDay_0.0  1.633906\n",
       "14       Month_Dec  1.163066\n",
       "15       Month_Feb  1.033678\n",
       "16       Browser_2  1.161189\n",
       "17   Prod_Dur_View  1.005160\n",
       "18      Month_June  1.025273\n",
       "19       Month_Nov  1.173743\n",
       "20        Region_1  1.042915\n",
       "21   Info_Dur_View  1.010983"
      ]
     },
     "execution_count": 67,
     "metadata": {},
     "output_type": "execute_result"
    }
   ],
   "source": [
    "num = X\n",
    "calc_vif(num)"
   ]
  },
  {
   "cell_type": "markdown",
   "id": "banner-given",
   "metadata": {},
   "source": [
    "<h4> <span style='color:darkolivegreen'>Note: No Multicollinearity exists!</span> </h4>"
   ]
  },
  {
   "cell_type": "code",
   "execution_count": 68,
   "id": "closed-fisher",
   "metadata": {},
   "outputs": [
    {
     "name": "stdout",
     "output_type": "stream",
     "text": [
      "Accuracy of logistic regression classifiers on test set: 0.64\n"
     ]
    }
   ],
   "source": [
    "# Check model accuracy using predicted y and X_test\n",
    "y_pred = logreg.predict(X_test)\n",
    "print('Accuracy of logistic regression classifiers on test set: {:.2f}'.format(logreg.score(X_test, y_test)))"
   ]
  },
  {
   "cell_type": "code",
   "execution_count": 69,
   "id": "korean-toyota",
   "metadata": {},
   "outputs": [
    {
     "name": "stdout",
     "output_type": "stream",
     "text": [
      "[[ 911  718]\n",
      " [ 407 1101]]\n"
     ]
    }
   ],
   "source": [
    "# Confusion matrix to evaluate model\n",
    "confusion_matrix = confusion_matrix(y_test, y_pred)\n",
    "print(confusion_matrix)"
   ]
  },
  {
   "cell_type": "code",
   "execution_count": 70,
   "id": "cellular-ranch",
   "metadata": {},
   "outputs": [
    {
     "name": "stdout",
     "output_type": "stream",
     "text": [
      "              precision    recall  f1-score   support\n",
      "\n",
      "           0       0.69      0.56      0.62      1629\n",
      "           1       0.61      0.73      0.66      1508\n",
      "\n",
      "    accuracy                           0.64      3137\n",
      "   macro avg       0.65      0.64      0.64      3137\n",
      "weighted avg       0.65      0.64      0.64      3137\n",
      "\n"
     ]
    }
   ],
   "source": [
    "# Print Classification Report to review precision, recall, and f1-scores\n",
    "print(classification_report(y_test, y_pred))"
   ]
  },
  {
   "cell_type": "markdown",
   "id": "plastic-compromise",
   "metadata": {},
   "source": [
    "<h4> <span style='color:darkolivegreen'>Model Evaluation Summary at the bottom of the notebook.</span> </h4>"
   ]
  },
  {
   "cell_type": "code",
   "execution_count": 71,
   "id": "intimate-entrepreneur",
   "metadata": {},
   "outputs": [
    {
     "data": {
      "image/png": "[encoded data removed]",
      "text/plain": [
       "<Figure size 432x288 with 1 Axes>"
      ]
     },
     "metadata": {},
     "output_type": "display_data"
    }
   ],
   "source": [
    "# Plot ROC Curve\n",
    "logit_roc_auc = roc_auc_score(y_test, logreg.predict(X_test))\n",
    "fpr, tpr, thresholds = roc_curve(y_test, logreg.predict_proba(X_test)[:,1])\n",
    "plt.figure()\n",
    "plt.plot(fpr, tpr, label='Logistic Regression (area = %0.2f)' % logit_roc_auc)\n",
    "plt.plot([0, 1], [0, 1],'r--')\n",
    "plt.xlim([0.0, 1.0])\n",
    "plt.ylim([0.0, 1.05])\n",
    "plt.xlabel('False Positive Rate')\n",
    "plt.ylabel('True Positive Rate')\n",
    "plt.title('Receiver operating characteristic')\n",
    "plt.legend(loc=\"lower right\")\n",
    "plt.savefig('Log_ROC')\n",
    "plt.show()"
   ]
  },
  {
   "cell_type": "markdown",
   "id": "local-notification",
   "metadata": {},
   "source": [
    "**2nd iteration of RFE and Cross-Validated Selection of the Best Number of Features**"
   ]
  },
  {
   "cell_type": "code",
   "execution_count": 72,
   "id": "failing-vancouver",
   "metadata": {},
   "outputs": [],
   "source": [
    "# Define Logreg2 using LogisticRegression for cross-validated feature selection and matching Logit() matching parameters\n",
    "logreg2 = LogisticRegression(max_iter=2000, multi_class='ovr', solver='newton-cg', fit_intercept=True, random_state=500)\n",
    "\n",
    "# RFECV for cross-validated features selection using LogisticRegression\n",
    "rfe2 = RFECV(estimator=logreg2)\n",
    "rfe2 = rfe2.fit(os_df_X, os_df_y.values.ravel())"
   ]
  },
  {
   "cell_type": "code",
   "execution_count": 73,
   "id": "acoustic-industry",
   "metadata": {},
   "outputs": [],
   "source": [
    "# Define rfeDf2 to pull features after RFECV execution\n",
    "\n",
    "rfesupport2 = rfe2.support_\n",
    "rfeRanking2 = rfe2.ranking_\n",
    "names2 = os_df_X.columns.values\n",
    "rfeDf2 = pd.DataFrame()\n",
    "rfeDf2['rferanking2'] = rfeRanking2\n",
    "rfeDf2['names2'] = names2\n",
    "rfeDf2['rfesupport2'] = rfesupport2\n",
    "rfeDf2.sort_values([\"rferanking2\"], axis=0,\n",
    "                 ascending=True, inplace=True)\n",
    "rfeDf2 = rfeDf2.loc[rfeDf2['rfesupport2'] == True]\n"
   ]
  },
  {
   "cell_type": "markdown",
   "id": "balanced-grace",
   "metadata": {},
   "source": [
    "<h4> <span style='color:darkolivegreen'>RFECV Logic and Explanation:</span> </h4> \n",
    "\n",
    "<h4> <span style='color:darkolivegreen'> We then decided to use cross-validation, which is backward selection that removes irrelevant features based on validation scores, to further reduce features to the most optimal result on the prepared data using the Logreg estimator. We kept only statistically significant features with p-values greater than .05 - leaving us with 17 features for our 2nd model iteration using the Logistic Regression algorithm. </span> </h4>"
   ]
  },
  {
   "cell_type": "markdown",
   "id": "molecular-invalid",
   "metadata": {},
   "source": [
    "**2nd model iteration**"
   ]
  },
  {
   "cell_type": "code",
   "execution_count": 74,
   "id": "annual-eleven",
   "metadata": {},
   "outputs": [],
   "source": [
    "# Redefine X2 with RFECV selected features\n",
    "cols3= rfeDf2['names2']\n",
    "X2=sm.add_constant(os_df_X[cols3])\n",
    "y=os_df_y['Revenue']"
   ]
  },
  {
   "cell_type": "code",
   "execution_count": 75,
   "id": "single-jenny",
   "metadata": {},
   "outputs": [
    {
     "name": "stdout",
     "output_type": "stream",
     "text": [
      "Warning: Maximum number of iterations has been exceeded.\n",
      "         Current function value: 0.619409\n",
      "         Iterations: 35\n"
     ]
    }
   ],
   "source": [
    "# Using Statsmodels.api Logit() for easy p-value rationalization\n",
    "import statsmodels.api as sm2\n",
    "logit_model2=sm2.Logit(y,X2)\n",
    "result2=logit_model2.fit()\n",
    "\n",
    "# Move result to dataframe for later rationalization\n",
    "result2 = result2.summary().tables[1].as_html()\n",
    "result2 = pd.read_html(result2, header=0)[0]\n",
    "\n",
    "result2 = result2.rename(columns={'Unnamed: 0': 'Names'})\n"
   ]
  },
  {
   "cell_type": "code",
   "execution_count": 76,
   "id": "robust-concentrate",
   "metadata": {},
   "outputs": [],
   "source": [
    "# Only select features with p-values < 0.05 and any nans\n",
    "result2 = result2.dropna()\n",
    "result2 = result2.loc[(result2['P>|z|'] <= 0.05)]\n",
    "result2\n",
    "\n",
    "# Store selected features\n",
    "cols4 = result2['Names']\n",
    "\n",
    "# Redefine X2 with selected features\n",
    "X2=sm2.add_constant(os_df_X[cols4])\n",
    "y = os_df_y['Revenue']\n"
   ]
  },
  {
   "cell_type": "markdown",
   "id": "going-jewel",
   "metadata": {},
   "source": [
    "<h4> <span style='color:darkolivegreen'>2nd Model Iteration Explanation and Logic:</span> </h4> \n",
    "\n",
    "<h4> <span style='color:darkolivegreen'> We kept only statistically significant features with p-values greater than .05 - leaving us with 17 features for our 2nd model iteration using the Logistic Regression algorithm. </span> </h4>"
   ]
  },
  {
   "cell_type": "markdown",
   "id": "average-riverside",
   "metadata": {},
   "source": [
    "**2nd Logistic Regression Model Fitting**"
   ]
  },
  {
   "cell_type": "code",
   "execution_count": 77,
   "id": "historic-valentine",
   "metadata": {},
   "outputs": [
    {
     "data": {
      "text/plain": [
       "LogisticRegression(max_iter=2000, multi_class='ovr', random_state=500,\n",
       "                   solver='newton-cg')"
      ]
     },
     "execution_count": 77,
     "metadata": {},
     "output_type": "execute_result"
    }
   ],
   "source": [
    "# Resplit train and test sets with only features selected\n",
    "X2_train, X2_test, y2_train, y2_test = train_test_split(X2, y, test_size=0.2, random_state=500)\n",
    "\n",
    "#logreg2 = LogisticRegression(max_iter=2000, multi_class='ovr', penalty='none', solver='newton-cg', fit_intercept=True, random_state=500)\n",
    "\n",
    "# Fit LogisticRegression with selected features\n",
    "logreg2.fit(X2, y)"
   ]
  },
  {
   "cell_type": "code",
   "execution_count": 78,
   "id": "brazilian-litigation",
   "metadata": {},
   "outputs": [
    {
     "data": {
      "text/html": [
       "<div>\n",
       "<style scoped>\n",
       "    .dataframe tbody tr th:only-of-type {\n",
       "        vertical-align: middle;\n",
       "    }\n",
       "\n",
       "    .dataframe tbody tr th {\n",
       "        vertical-align: top;\n",
       "    }\n",
       "\n",
       "    .dataframe thead th {\n",
       "        text-align: right;\n",
       "    }\n",
       "</style>\n",
       "<table border=\"1\" class=\"dataframe\">\n",
       "  <thead>\n",
       "    <tr style=\"text-align: right;\">\n",
       "      <th></th>\n",
       "      <th>features</th>\n",
       "      <th>coef</th>\n",
       "    </tr>\n",
       "  </thead>\n",
       "  <tbody>\n",
       "    <tr>\n",
       "      <th>0</th>\n",
       "      <td>const</td>\n",
       "      <td>-5.218389e-07</td>\n",
       "    </tr>\n",
       "    <tr>\n",
       "      <th>1</th>\n",
       "      <td>Month_Mar</td>\n",
       "      <td>-2.845743e-01</td>\n",
       "    </tr>\n",
       "    <tr>\n",
       "      <th>2</th>\n",
       "      <td>Browser_3</td>\n",
       "      <td>-1.344427e-01</td>\n",
       "    </tr>\n",
       "    <tr>\n",
       "      <th>3</th>\n",
       "      <td>Browser_13</td>\n",
       "      <td>5.482572e-02</td>\n",
       "    </tr>\n",
       "    <tr>\n",
       "      <th>4</th>\n",
       "      <td>TrafficType_1</td>\n",
       "      <td>-2.653096e-01</td>\n",
       "    </tr>\n",
       "    <tr>\n",
       "      <th>5</th>\n",
       "      <td>TrafficType_3</td>\n",
       "      <td>-3.588866e-01</td>\n",
       "    </tr>\n",
       "    <tr>\n",
       "      <th>6</th>\n",
       "      <td>Month_Nov</td>\n",
       "      <td>2.312914e-01</td>\n",
       "    </tr>\n",
       "    <tr>\n",
       "      <th>7</th>\n",
       "      <td>Month_May</td>\n",
       "      <td>-1.903996e-01</td>\n",
       "    </tr>\n",
       "    <tr>\n",
       "      <th>8</th>\n",
       "      <td>VisitorType_New_Visitor</td>\n",
       "      <td>1.634184e-01</td>\n",
       "    </tr>\n",
       "    <tr>\n",
       "      <th>9</th>\n",
       "      <td>Month_Feb</td>\n",
       "      <td>-3.074085e-01</td>\n",
       "    </tr>\n",
       "    <tr>\n",
       "      <th>10</th>\n",
       "      <td>Month_Dec</td>\n",
       "      <td>-2.303021e-01</td>\n",
       "    </tr>\n",
       "    <tr>\n",
       "      <th>11</th>\n",
       "      <td>SpecialDay_0.0</td>\n",
       "      <td>1.512664e-01</td>\n",
       "    </tr>\n",
       "    <tr>\n",
       "      <th>12</th>\n",
       "      <td>TrafficType_13</td>\n",
       "      <td>-3.207992e-01</td>\n",
       "    </tr>\n",
       "    <tr>\n",
       "      <th>13</th>\n",
       "      <td>SpecialDay_0.8</td>\n",
       "      <td>-1.394878e-01</td>\n",
       "    </tr>\n",
       "    <tr>\n",
       "      <th>14</th>\n",
       "      <td>TrafficType_6</td>\n",
       "      <td>-1.081073e-01</td>\n",
       "    </tr>\n",
       "    <tr>\n",
       "      <th>15</th>\n",
       "      <td>Info_Dur_View</td>\n",
       "      <td>1.053710e-01</td>\n",
       "    </tr>\n",
       "    <tr>\n",
       "      <th>16</th>\n",
       "      <td>Month_June</td>\n",
       "      <td>-1.122337e-01</td>\n",
       "    </tr>\n",
       "  </tbody>\n",
       "</table>\n",
       "</div>"
      ],
      "text/plain": [
       "                   features          coef\n",
       "0                     const -5.218389e-07\n",
       "1                 Month_Mar -2.845743e-01\n",
       "2                 Browser_3 -1.344427e-01\n",
       "3                Browser_13  5.482572e-02\n",
       "4             TrafficType_1 -2.653096e-01\n",
       "5             TrafficType_3 -3.588866e-01\n",
       "6                 Month_Nov  2.312914e-01\n",
       "7                 Month_May -1.903996e-01\n",
       "8   VisitorType_New_Visitor  1.634184e-01\n",
       "9                 Month_Feb -3.074085e-01\n",
       "10                Month_Dec -2.303021e-01\n",
       "11           SpecialDay_0.0  1.512664e-01\n",
       "12           TrafficType_13 -3.207992e-01\n",
       "13           SpecialDay_0.8 -1.394878e-01\n",
       "14            TrafficType_6 -1.081073e-01\n",
       "15            Info_Dur_View  1.053710e-01\n",
       "16               Month_June -1.122337e-01"
      ]
     },
     "execution_count": 78,
     "metadata": {},
     "output_type": "execute_result"
    }
   ],
   "source": [
    "# Print features and coefficient in clean format\n",
    "pd.DataFrame(zip(X2_train.columns, np.transpose(logreg2.coef_.tolist()[0])), columns=['features', 'coef'])"
   ]
  },
  {
   "cell_type": "markdown",
   "id": "welsh-privilege",
   "metadata": {},
   "source": [
    "<h4> <span style='color:darkolivegreen'>Coefficient Evaluation:</span> </h4>\n",
    "  \n",
    "<h4> <span style='color:darkolivegreen'>The constant (slope of the Logistic Regression) is -0.0000005218389 - indicating that the overall likelihood of a sale is leans more towards Revenue = False. </span> </h4>\n",
    "  \n",
    "<h4> <span style='color:darkolivegreen'>Features that positively impact the likelihood of a sale (push the outcome towards Revenue = True) in descending order are: Month_Nov, VisitorType_New_Visitor, SpecialDay_0.0, Info_Dur_View, and Browser_13.</span> </h4>\n",
    "  \n",
    "<h4> <span style='color:darkolivegreen'>Features that negatively impact the likelihood of a sale (push the outcome towards Revenue = False) in descending order are: TrafficType_6, Month_June, Browser_3, SpecialDay_0.8, Month_May, Month_Dec, TrafficType_1, Month_Mar, Month_Feb, TrafficType_13, and TrafficType_3.</span> </h4>"
   ]
  },
  {
   "cell_type": "markdown",
   "id": "demographic-clark",
   "metadata": {},
   "source": [
    "**Evaluate Variance Inflation Factor (VIF) to address multicollinearity concerns**"
   ]
  },
  {
   "cell_type": "code",
   "execution_count": 79,
   "id": "uniform-bridal",
   "metadata": {},
   "outputs": [],
   "source": [
    "def calc_vif(X2):\n",
    "\n",
    "    # Calculating VIF\n",
    "    vif = pd.DataFrame()\n",
    "    vif[\"variables\"] = X2.columns\n",
    "    vif[\"VIF\"] = [variance_inflation_factor(X2.values, i) for i in range(X2.shape[1])]\n",
    "\n",
    "    return(vif)"
   ]
  },
  {
   "cell_type": "code",
   "execution_count": 80,
   "id": "continent-halloween",
   "metadata": {},
   "outputs": [
    {
     "data": {
      "text/html": [
       "<div>\n",
       "<style scoped>\n",
       "    .dataframe tbody tr th:only-of-type {\n",
       "        vertical-align: middle;\n",
       "    }\n",
       "\n",
       "    .dataframe tbody tr th {\n",
       "        vertical-align: top;\n",
       "    }\n",
       "\n",
       "    .dataframe thead th {\n",
       "        text-align: right;\n",
       "    }\n",
       "</style>\n",
       "<table border=\"1\" class=\"dataframe\">\n",
       "  <thead>\n",
       "    <tr style=\"text-align: right;\">\n",
       "      <th></th>\n",
       "      <th>variables</th>\n",
       "      <th>VIF</th>\n",
       "    </tr>\n",
       "  </thead>\n",
       "  <tbody>\n",
       "    <tr>\n",
       "      <th>0</th>\n",
       "      <td>const</td>\n",
       "      <td>1.067329</td>\n",
       "    </tr>\n",
       "    <tr>\n",
       "      <th>1</th>\n",
       "      <td>Month_Mar</td>\n",
       "      <td>1.538745</td>\n",
       "    </tr>\n",
       "    <tr>\n",
       "      <th>2</th>\n",
       "      <td>Browser_3</td>\n",
       "      <td>1.004137</td>\n",
       "    </tr>\n",
       "    <tr>\n",
       "      <th>3</th>\n",
       "      <td>Browser_13</td>\n",
       "      <td>1.041498</td>\n",
       "    </tr>\n",
       "    <tr>\n",
       "      <th>4</th>\n",
       "      <td>TrafficType_1</td>\n",
       "      <td>1.156913</td>\n",
       "    </tr>\n",
       "    <tr>\n",
       "      <th>5</th>\n",
       "      <td>TrafficType_3</td>\n",
       "      <td>1.112501</td>\n",
       "    </tr>\n",
       "    <tr>\n",
       "      <th>6</th>\n",
       "      <td>Month_Nov</td>\n",
       "      <td>1.942316</td>\n",
       "    </tr>\n",
       "    <tr>\n",
       "      <th>7</th>\n",
       "      <td>Month_May</td>\n",
       "      <td>2.193062</td>\n",
       "    </tr>\n",
       "    <tr>\n",
       "      <th>8</th>\n",
       "      <td>VisitorType_New_Visitor</td>\n",
       "      <td>1.111086</td>\n",
       "    </tr>\n",
       "    <tr>\n",
       "      <th>9</th>\n",
       "      <td>Month_Feb</td>\n",
       "      <td>1.093395</td>\n",
       "    </tr>\n",
       "    <tr>\n",
       "      <th>10</th>\n",
       "      <td>Month_Dec</td>\n",
       "      <td>1.524571</td>\n",
       "    </tr>\n",
       "    <tr>\n",
       "      <th>11</th>\n",
       "      <td>SpecialDay_0.0</td>\n",
       "      <td>1.638196</td>\n",
       "    </tr>\n",
       "    <tr>\n",
       "      <th>12</th>\n",
       "      <td>TrafficType_13</td>\n",
       "      <td>1.064941</td>\n",
       "    </tr>\n",
       "    <tr>\n",
       "      <th>13</th>\n",
       "      <td>SpecialDay_0.8</td>\n",
       "      <td>1.284234</td>\n",
       "    </tr>\n",
       "    <tr>\n",
       "      <th>14</th>\n",
       "      <td>TrafficType_6</td>\n",
       "      <td>1.043504</td>\n",
       "    </tr>\n",
       "    <tr>\n",
       "      <th>15</th>\n",
       "      <td>Info_Dur_View</td>\n",
       "      <td>1.014084</td>\n",
       "    </tr>\n",
       "    <tr>\n",
       "      <th>16</th>\n",
       "      <td>Month_June</td>\n",
       "      <td>1.094277</td>\n",
       "    </tr>\n",
       "  </tbody>\n",
       "</table>\n",
       "</div>"
      ],
      "text/plain": [
       "                  variables       VIF\n",
       "0                     const  1.067329\n",
       "1                 Month_Mar  1.538745\n",
       "2                 Browser_3  1.004137\n",
       "3                Browser_13  1.041498\n",
       "4             TrafficType_1  1.156913\n",
       "5             TrafficType_3  1.112501\n",
       "6                 Month_Nov  1.942316\n",
       "7                 Month_May  2.193062\n",
       "8   VisitorType_New_Visitor  1.111086\n",
       "9                 Month_Feb  1.093395\n",
       "10                Month_Dec  1.524571\n",
       "11           SpecialDay_0.0  1.638196\n",
       "12           TrafficType_13  1.064941\n",
       "13           SpecialDay_0.8  1.284234\n",
       "14            TrafficType_6  1.043504\n",
       "15            Info_Dur_View  1.014084\n",
       "16               Month_June  1.094277"
      ]
     },
     "execution_count": 80,
     "metadata": {},
     "output_type": "execute_result"
    }
   ],
   "source": [
    "num = X2\n",
    "calc_vif(num)"
   ]
  },
  {
   "cell_type": "markdown",
   "id": "connected-brooklyn",
   "metadata": {},
   "source": [
    "<h4> <span style='color:darkolivegreen'>Note: No Multicollinearity exists!</span> </h4>"
   ]
  },
  {
   "cell_type": "code",
   "execution_count": 81,
   "id": "latin-hazard",
   "metadata": {},
   "outputs": [
    {
     "name": "stdout",
     "output_type": "stream",
     "text": [
      "Accuracy of logistic regression classifiers on test set: 0.66\n"
     ]
    }
   ],
   "source": [
    "# Check model accuracy using predicted y and X_test\n",
    "y2_pred = logreg2.predict(X2_test)\n",
    "print('Accuracy of logistic regression classifiers on test set: {:.2f}'.format(logreg2.score(X2_test, y2_test)))"
   ]
  },
  {
   "cell_type": "code",
   "execution_count": 82,
   "id": "micro-anatomy",
   "metadata": {},
   "outputs": [
    {
     "name": "stdout",
     "output_type": "stream",
     "text": [
      "[[1075  554]\n",
      " [ 513  995]]\n"
     ]
    }
   ],
   "source": [
    "# Confusion Matrix to evaluate model performance\n",
    "confusion_matrix2 = confusion_matrix2(y2_test, y2_pred)\n",
    "print(confusion_matrix2)"
   ]
  },
  {
   "cell_type": "code",
   "execution_count": 83,
   "id": "convinced-simpson",
   "metadata": {},
   "outputs": [
    {
     "name": "stdout",
     "output_type": "stream",
     "text": [
      "              precision    recall  f1-score   support\n",
      "\n",
      "           0       0.68      0.66      0.67      1629\n",
      "           1       0.64      0.66      0.65      1508\n",
      "\n",
      "    accuracy                           0.66      3137\n",
      "   macro avg       0.66      0.66      0.66      3137\n",
      "weighted avg       0.66      0.66      0.66      3137\n",
      "\n"
     ]
    }
   ],
   "source": [
    "# Classification Report to evaluate Precision, Recall, and f1-scores\n",
    "print(classification_report(y2_test, y2_pred))"
   ]
  },
  {
   "cell_type": "code",
   "execution_count": 84,
   "id": "major-imaging",
   "metadata": {},
   "outputs": [
    {
     "data": {
      "image/png": "[encoded data removed]",
      "text/plain": [
       "<Figure size 432x288 with 1 Axes>"
      ]
     },
     "metadata": {},
     "output_type": "display_data"
    }
   ],
   "source": [
    "# ROC curve for model evaluation\n",
    "logit_roc_auc = roc_auc_score(y2_test, logreg2.predict(X2_test))\n",
    "fpr, tpr, thresholds = roc_curve(y2_test, logreg2.predict_proba(X2_test)[:,1])\n",
    "plt.figure()\n",
    "plt.plot(fpr, tpr, label='Logistic Regression (area = %0.2f)' % logit_roc_auc)\n",
    "plt.plot([0, 1], [0, 1],'r--')\n",
    "plt.xlim([0.0, 1.0])\n",
    "plt.ylim([0.0, 1.05])\n",
    "plt.xlabel('False Positive Rate')\n",
    "plt.ylabel('True Positive Rate')\n",
    "plt.title('Receiver operating characteristic')\n",
    "plt.legend(loc=\"lower right\")\n",
    "plt.show()"
   ]
  },
  {
   "cell_type": "markdown",
   "id": "wrapped-grant",
   "metadata": {},
   "source": [
    "<h4> <span style='color:darkolivegreen'>Decision Logic:</span> </h4>\n",
    "  \n",
    "<h4> <span style='color:darkolivegreen'> Since the cost of False Negatives (Sessions identified as not likely to purchase that are likely to purchase) is high (the client wouldn't deploy sales tactics to further entice the purchase or grow the basket) in our model, Recall is our primary model evaluation metric with overall accuracy (f1-score) as a secondary measure.</span> </h4>"
   ]
  },
  {
   "cell_type": "markdown",
   "id": "duplicate-apparel",
   "metadata": {},
   "source": [
    "<h4> <span style='color:darkolivegreen'>Final Model Selection:</span> </h4>\n",
    "  \n",
    "<h4> <span style='color:darkolivegreen'> Given the above results, Model 2 is determined as the best fit since it uses the fewest number of features, has the highest Recall (66% in Model 2 vs 64% in Model1), and the highest overall accuracy (66% in Model 2 vs 64% in Model1).</span> </h4>"
   ]
  },
  {
   "cell_type": "markdown",
   "id": "overhead-middle",
   "metadata": {},
   "source": [
    "Final Logistic Regression Equation"
   ]
  },
  {
   "cell_type": "markdown",
   "id": "regulation-sudan",
   "metadata": {},
   "source": [
    "<h4> <span style='color:darkolivegreen'>ln[y/(1−y)]=-5.22e-07 + 0.231*Month_Nov + 0.163*VisitorType_New_Visitor + 0.151*SpecialDay_0.0 + 0.105*Info_Dur_View + 0.055*Browser13 - 0.108*TrafficType_6 - 0.359*TrafficType_3 - 0.321*TrafficType_13 - 0.307*Month_Feb - 0.285*Month_Mar - 0.265*TrafficType_1 - 0.230*Month_Dec - 0.19*Month_May -1.39*SpecialDay_0.8 - 0.134*Browser_3 - 0.122*Month_June + ε:</span> </h4>"
   ]
  },
  {
   "cell_type": "markdown",
   "id": "inclusive-twelve",
   "metadata": {},
   "source": [
    "**Using our Logistic Regression Equation for outcome predictions**"
   ]
  },
  {
   "cell_type": "markdown",
   "id": "unsigned-happening",
   "metadata": {},
   "source": [
    "<h4> <span style='color:darkolivegreen'>In order to use this equation for further interpretation or predictions, input for our single numerical feature selected (Info_Dur_view) must be centered by its mean and scaled by its standard deviation. Outcome probabilities can be predicted by plugging in the appropriate values for each variable, summing the values and constant, and then calculating logistic transformation 1/(1+e) to determine the probability of a Revenue = True.</span> </h4>"
   ]
  }
 ],
 "metadata": {
  "kernelspec": {
   "display_name": "Python 3",
   "language": "python",
   "name": "python3"
  },
  "language_info": {
   "codemirror_mode": {
    "name": "ipython",
    "version": 3
   },
   "file_extension": ".py",
   "mimetype": "text/x-python",
   "name": "python",
   "nbconvert_exporter": "python",
   "pygments_lexer": "ipython3",
   "version": "3.9.2"
  }
 },
 "nbformat": 4,
 "nbformat_minor": 5
}
